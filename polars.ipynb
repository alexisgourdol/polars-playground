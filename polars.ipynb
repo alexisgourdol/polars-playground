{
 "cells": [
  {
   "cell_type": "code",
   "execution_count": 52,
   "id": "a3dc0d6e-8eee-4719-bf99-bc406beb8a62",
   "metadata": {},
   "outputs": [],
   "source": [
    "import sys\n",
    "import polars as pl\n",
    "import datetime as dt\n",
    "from typing import Optional"
   ]
  },
  {
   "cell_type": "code",
   "execution_count": 53,
   "id": "5cbdba7b-c41a-4d79-bc20-2d4abfd1ff93",
   "metadata": {},
   "outputs": [
    {
     "data": {
      "text/plain": [
       "'3.12.11 (main, Sep  9 2025, 06:00:18) [GCC 14.2.0]'"
      ]
     },
     "execution_count": 53,
     "metadata": {},
     "output_type": "execute_result"
    }
   ],
   "source": [
    "sys.version"
   ]
  },
  {
   "cell_type": "code",
   "execution_count": 3,
   "id": "02dd63da-dad4-4f73-94a9-c0ca38c71134",
   "metadata": {},
   "outputs": [
    {
     "data": {
      "text/html": [
       "<div><style>\n",
       ".dataframe > thead > tr,\n",
       ".dataframe > tbody > tr {\n",
       "  text-align: right;\n",
       "  white-space: pre-wrap;\n",
       "}\n",
       "</style>\n",
       "<small>shape: (4, 4)</small><table border=\"1\" class=\"dataframe\"><thead><tr><th>name</th><th>birthdate</th><th>weight</th><th>height</th></tr><tr><td>str</td><td>date</td><td>f64</td><td>f64</td></tr></thead><tbody><tr><td>&quot;Alice Archer&quot;</td><td>1997-01-10</td><td>57.9</td><td>1.56</td></tr><tr><td>&quot;Ben Brown&quot;</td><td>1985-02-15</td><td>72.5</td><td>1.77</td></tr><tr><td>&quot;Chloe Cooper&quot;</td><td>1983-03-22</td><td>53.6</td><td>1.65</td></tr><tr><td>&quot;Daniel Donovan&quot;</td><td>1981-04-30</td><td>83.1</td><td>1.75</td></tr></tbody></table></div>"
      ],
      "text/plain": [
       "shape: (4, 4)\n",
       "┌────────────────┬────────────┬────────┬────────┐\n",
       "│ name           ┆ birthdate  ┆ weight ┆ height │\n",
       "│ ---            ┆ ---        ┆ ---    ┆ ---    │\n",
       "│ str            ┆ date       ┆ f64    ┆ f64    │\n",
       "╞════════════════╪════════════╪════════╪════════╡\n",
       "│ Alice Archer   ┆ 1997-01-10 ┆ 57.9   ┆ 1.56   │\n",
       "│ Ben Brown      ┆ 1985-02-15 ┆ 72.5   ┆ 1.77   │\n",
       "│ Chloe Cooper   ┆ 1983-03-22 ┆ 53.6   ┆ 1.65   │\n",
       "│ Daniel Donovan ┆ 1981-04-30 ┆ 83.1   ┆ 1.75   │\n",
       "└────────────────┴────────────┴────────┴────────┘"
      ]
     },
     "execution_count": 3,
     "metadata": {},
     "output_type": "execute_result"
    }
   ],
   "source": [
    "df = pl.DataFrame(\n",
    "    {\n",
    "        \"name\": [\"Alice Archer\", \"Ben Brown\", \"Chloe Cooper\", \"Daniel Donovan\"],\n",
    "        \"birthdate\": [\n",
    "            dt.date(1997, 1, 10),\n",
    "            dt.date(1985, 2, 15),\n",
    "            dt.date(1983, 3, 22),\n",
    "            dt.date(1981, 4, 30),\n",
    "        ],\n",
    "        \"weight\": [57.9, 72.5, 53.6, 83.1],  # (kg)\n",
    "        \"height\": [1.56, 1.77, 1.65, 1.75],  # (m)\n",
    "    }\n",
    ")\n",
    "df"
   ]
  },
  {
   "cell_type": "markdown",
   "id": "e2e35700-b326-40bb-9d90-f0e0f7230984",
   "metadata": {},
   "source": [
    "# Expression"
   ]
  },
  {
   "cell_type": "code",
   "execution_count": 4,
   "id": "b51715e6-5901-42f1-88b0-793eb3768f00",
   "metadata": {},
   "outputs": [
    {
     "data": {
      "text/html": [
       "[(col(\"weight\")) / (col(\"height\").pow([dyn int: 2]))]"
      ],
      "text/plain": [
       "<Expr ['[(col(\"weight\")) / (col(\"heigh…'] at 0xFFFF8B5C54F0>"
      ]
     },
     "execution_count": 4,
     "metadata": {},
     "output_type": "execute_result"
    }
   ],
   "source": [
    "pl.col(\"weight\") / (pl.col(\"height\") ** 2)"
   ]
  },
  {
   "cell_type": "code",
   "execution_count": 61,
   "id": "102c4c72",
   "metadata": {},
   "outputs": [
    {
     "name": "stdout",
     "output_type": "stream",
     "text": [
      "Polars DataFrame info — shape: (4, 4)\n",
      "Estimated memory usage: 127.0B\n",
      "\n",
      "Column      Dtype         Non-Null   Nulls  Unique\n",
      "--------------------------------------------------\n",
      "name        String               4       0       4\n",
      "birthdate   Date                 4       0       4\n",
      "weight      Float64              4       0       4\n",
      "height      Float64              4       0       4\n",
      "\n",
      "dtypes:\n",
      "  String: 1\n",
      "  Date: 1\n",
      "  Float64: 2\n"
     ]
    }
   ],
   "source": [
    "def _bytes_to_human(n: int) -> str:\n",
    "    # simple human-readable bytes\n",
    "    for unit in (\"B\", \"KB\", \"MB\", \"GB\", \"TB\"):\n",
    "        if n < 1024.0:\n",
    "            return f\"{n:3.1f}{unit}\"\n",
    "        n /= 1024.0\n",
    "    return f\"{n:.1f}PB\"\n",
    "\n",
    "def pl_info(\n",
    "    df: pl.DataFrame,\n",
    "    show_memory: bool = True,\n",
    "    show_unique: bool = True,\n",
    "    col_width: Optional[int] = None,\n",
    "):\n",
    "    \"\"\"\n",
    "    Print a pandas-like DataFrame.info() for a Polars DataFrame.\n",
    "\n",
    "    Parameters\n",
    "    ----------\n",
    "    df : pl.DataFrame\n",
    "        The Polars DataFrame.\n",
    "    show_memory : bool\n",
    "        Show an estimated memory usage (in human-readable form).\n",
    "    show_unique : bool\n",
    "        Compute and show the number of unique values per column (may be slower).\n",
    "    col_width : Optional[int]\n",
    "        Force column name column width; if None auto-sizes to longest column name.\n",
    "    \"\"\"\n",
    "    n_rows, n_cols = df.shape\n",
    "    print(f\"Polars DataFrame info — shape: ({n_rows}, {n_cols})\")\n",
    "    \n",
    "    if show_memory:\n",
    "        try:\n",
    "            size_bytes = df.estimated_size()\n",
    "            print(f\"Estimated memory usage: {_bytes_to_human(size_bytes)}\")\n",
    "        except Exception:\n",
    "            # fallback if method not present\n",
    "            print(\"Estimated memory usage: (unavailable)\")\n",
    "\n",
    "    # prepare column widths\n",
    "    names = list(df.schema.keys())\n",
    "    max_name_len = max((len(n) for n in names), default=4)\n",
    "    name_col_w = col_width if col_width is not None else max(10, max_name_len + 2)\n",
    "\n",
    "    header = f\"{'Column':{name_col_w}} {'Dtype':12} {'Non-Null':>9} {'Nulls':>7}\"\n",
    "    if show_unique:\n",
    "        header += \"  Unique\"\n",
    "    print(\"\\n\" + header)\n",
    "    print(\"-\" * len(header))\n",
    "\n",
    "    for name, dtype in df.schema.items():\n",
    "        nulls = df[name].null_count()\n",
    "        non_null = n_rows - nulls\n",
    "        dtype_str = str(dtype)\n",
    "        line = f\"{name:{name_col_w}} {dtype_str:12} {non_null:9d} {nulls:7d}\"\n",
    "        if show_unique:\n",
    "            # n_unique can be somewhat expensive for large columns\n",
    "            try:\n",
    "                unique_count = int(df[name].n_unique())\n",
    "            except Exception:\n",
    "                unique_count = -1\n",
    "            line += f\"  {unique_count if unique_count >= 0 else 'N/A':>6}\"\n",
    "        print(line)\n",
    "\n",
    "    # final summary similar to pandas\n",
    "    print(\"\\ndtypes:\")\n",
    "    # count dtypes\n",
    "    dtype_counts = {}\n",
    "    for dtype in df.schema.values():\n",
    "        s = str(dtype)\n",
    "        dtype_counts[s] = dtype_counts.get(s, 0) + 1\n",
    "    for dt_name, cnt in dtype_counts.items():\n",
    "        print(f\"  {dt_name}: {cnt}\")\n",
    "\n",
    "\n",
    "pl_info(df, show_memory=True, show_unique=True)\n",
    "\n"
   ]
  },
  {
   "cell_type": "markdown",
   "id": "ab5ae097-aa4f-465e-a0c4-efa0443975e5",
   "metadata": {},
   "source": [
    "# Contexts\n",
    "\n",
    "`select`, `with_columns`, `filter`, `group_by`"
   ]
  },
  {
   "cell_type": "code",
   "execution_count": 104,
   "id": "7698314d",
   "metadata": {},
   "outputs": [
    {
     "ename": "ModuleNotFoundError",
     "evalue": "No module named 'pyarrow'",
     "output_type": "error",
     "traceback": [
      "\u001b[31m---------------------------------------------------------------------------\u001b[39m",
      "\u001b[31mModuleNotFoundError\u001b[39m                       Traceback (most recent call last)",
      "\u001b[32m/tmp/ipykernel_16250/48880200.py\u001b[39m in \u001b[36m?\u001b[39m\u001b[34m()\u001b[39m\n\u001b[32m----> \u001b[39m\u001b[32m1\u001b[39m df.select(pl.col(\u001b[33m\"birthdate\"\u001b[39m)).to_pandas()\n",
      "\u001b[32m/workspaces/polars-playground/.venv/lib/python3.12/site-packages/polars/dataframe/frame.py\u001b[39m in \u001b[36m?\u001b[39m\u001b[34m(self, use_pyarrow_extension_array, **kwargs)\u001b[39m\n\u001b[32m   2557\u001b[39m             return self._to_pandas_with_object_columns(\n\u001b[32m   2558\u001b[39m                 use_pyarrow_extension_array=use_pyarrow_extension_array, **kwargs\n\u001b[32m   2559\u001b[39m             )\n\u001b[32m   2560\u001b[39m \n\u001b[32m-> \u001b[39m\u001b[32m2561\u001b[39m         return self._to_pandas_without_object_columns(\n\u001b[32m   2562\u001b[39m             self, use_pyarrow_extension_array=use_pyarrow_extension_array, **kwargs\n\u001b[32m   2563\u001b[39m         )\n",
      "\u001b[32m/workspaces/polars-playground/.venv/lib/python3.12/site-packages/polars/dataframe/frame.py\u001b[39m in \u001b[36m?\u001b[39m\u001b[34m(self, df, use_pyarrow_extension_array, **kwargs)\u001b[39m\n\u001b[32m   2608\u001b[39m     ) -> pd.DataFrame:\n\u001b[32m   2609\u001b[39m         \u001b[38;5;28;01mif\u001b[39;00m \u001b[38;5;28;01mnot\u001b[39;00m df.width:  \u001b[38;5;66;03m# Empty dataframe, cannot infer schema from batches\u001b[39;00m\n\u001b[32m   2610\u001b[39m             \u001b[38;5;28;01mreturn\u001b[39;00m pd.DataFrame()\n\u001b[32m   2611\u001b[39m \n\u001b[32m-> \u001b[39m\u001b[32m2612\u001b[39m         record_batches = df._df.to_pandas()\n\u001b[32m   2613\u001b[39m         tbl = pa.Table.from_batches(record_batches)\n\u001b[32m   2614\u001b[39m         \u001b[38;5;28;01mif\u001b[39;00m use_pyarrow_extension_array:\n\u001b[32m   2615\u001b[39m             return tbl.to_pandas(\n",
      "\u001b[31mModuleNotFoundError\u001b[39m: No module named 'pyarrow'"
     ]
    }
   ],
   "source": [
    "df.select(pl.col(\"birthdate\")).to_pandas()"
   ]
  },
  {
   "cell_type": "code",
   "execution_count": 62,
   "id": "37c7ef74-9fb7-45f6-b46e-54e52411b287",
   "metadata": {},
   "outputs": [
    {
     "data": {
      "text/html": [
       "<div><style>\n",
       ".dataframe > thead > tr,\n",
       ".dataframe > tbody > tr {\n",
       "  text-align: right;\n",
       "  white-space: pre-wrap;\n",
       "}\n",
       "</style>\n",
       "<small>shape: (4, 3)</small><table border=\"1\" class=\"dataframe\"><thead><tr><th>name</th><th>birth_year</th><th>bmi</th></tr><tr><td>str</td><td>i32</td><td>f64</td></tr></thead><tbody><tr><td>&quot;Alice Archer&quot;</td><td>1997</td><td>23.791913</td></tr><tr><td>&quot;Ben Brown&quot;</td><td>1985</td><td>23.141498</td></tr><tr><td>&quot;Chloe Cooper&quot;</td><td>1983</td><td>19.687787</td></tr><tr><td>&quot;Daniel Donovan&quot;</td><td>1981</td><td>27.134694</td></tr></tbody></table></div>"
      ],
      "text/plain": [
       "shape: (4, 3)\n",
       "┌────────────────┬────────────┬───────────┐\n",
       "│ name           ┆ birth_year ┆ bmi       │\n",
       "│ ---            ┆ ---        ┆ ---       │\n",
       "│ str            ┆ i32        ┆ f64       │\n",
       "╞════════════════╪════════════╪═══════════╡\n",
       "│ Alice Archer   ┆ 1997       ┆ 23.791913 │\n",
       "│ Ben Brown      ┆ 1985       ┆ 23.141498 │\n",
       "│ Chloe Cooper   ┆ 1983       ┆ 19.687787 │\n",
       "│ Daniel Donovan ┆ 1981       ┆ 27.134694 │\n",
       "└────────────────┴────────────┴───────────┘"
      ]
     },
     "execution_count": 62,
     "metadata": {},
     "output_type": "execute_result"
    }
   ],
   "source": [
    "result = df.select(\n",
    "    pl.col(\"name\"),\n",
    "    pl.col(\"birthdate\").dt.year().alias(\"birth_year\"),\n",
    "    (pl.col(\"weight\") / (pl.col(\"height\") ** 2)).alias(\"bmi\"),\n",
    ")\n",
    "result"
   ]
  },
  {
   "cell_type": "code",
   "execution_count": 6,
   "id": "b9a7fbc3-74f7-4c58-91dd-018178af0917",
   "metadata": {},
   "outputs": [
    {
     "data": {
      "text/html": [
       "<div><style>\n",
       ".dataframe > thead > tr,\n",
       ".dataframe > tbody > tr {\n",
       "  text-align: right;\n",
       "  white-space: pre-wrap;\n",
       "}\n",
       "</style>\n",
       "<small>shape: (4, 3)</small><table border=\"1\" class=\"dataframe\"><thead><tr><th>name</th><th>weight-5%</th><th>height-5%</th></tr><tr><td>str</td><td>f64</td><td>f64</td></tr></thead><tbody><tr><td>&quot;Alice Archer&quot;</td><td>55.0</td><td>1.48</td></tr><tr><td>&quot;Ben Brown&quot;</td><td>68.88</td><td>1.68</td></tr><tr><td>&quot;Chloe Cooper&quot;</td><td>50.92</td><td>1.57</td></tr><tr><td>&quot;Daniel Donovan&quot;</td><td>78.94</td><td>1.66</td></tr></tbody></table></div>"
      ],
      "text/plain": [
       "shape: (4, 3)\n",
       "┌────────────────┬───────────┬───────────┐\n",
       "│ name           ┆ weight-5% ┆ height-5% │\n",
       "│ ---            ┆ ---       ┆ ---       │\n",
       "│ str            ┆ f64       ┆ f64       │\n",
       "╞════════════════╪═══════════╪═══════════╡\n",
       "│ Alice Archer   ┆ 55.0      ┆ 1.48      │\n",
       "│ Ben Brown      ┆ 68.88     ┆ 1.68      │\n",
       "│ Chloe Cooper   ┆ 50.92     ┆ 1.57      │\n",
       "│ Daniel Donovan ┆ 78.94     ┆ 1.66      │\n",
       "└────────────────┴───────────┴───────────┘"
      ]
     },
     "execution_count": 6,
     "metadata": {},
     "output_type": "execute_result"
    }
   ],
   "source": [
    "result = df.select(\n",
    "    pl.col(\"name\"),\n",
    "    (pl.col(\"weight\", \"height\") * 0.95).round(2).name.suffix(\"-5%\"),\n",
    ")\n",
    "result"
   ]
  },
  {
   "cell_type": "code",
   "execution_count": 7,
   "id": "3d7dc825-de09-417e-a635-31d7e0caa792",
   "metadata": {},
   "outputs": [
    {
     "data": {
      "text/html": [
       "<div><style>\n",
       ".dataframe > thead > tr,\n",
       ".dataframe > tbody > tr {\n",
       "  text-align: right;\n",
       "  white-space: pre-wrap;\n",
       "}\n",
       "</style>\n",
       "<small>shape: (4, 6)</small><table border=\"1\" class=\"dataframe\"><thead><tr><th>name</th><th>birthdate</th><th>weight</th><th>height</th><th>birth_year</th><th>bmi</th></tr><tr><td>str</td><td>date</td><td>f64</td><td>f64</td><td>i32</td><td>f64</td></tr></thead><tbody><tr><td>&quot;Alice Archer&quot;</td><td>1997-01-10</td><td>57.9</td><td>1.56</td><td>1997</td><td>23.791913</td></tr><tr><td>&quot;Ben Brown&quot;</td><td>1985-02-15</td><td>72.5</td><td>1.77</td><td>1985</td><td>23.141498</td></tr><tr><td>&quot;Chloe Cooper&quot;</td><td>1983-03-22</td><td>53.6</td><td>1.65</td><td>1983</td><td>19.687787</td></tr><tr><td>&quot;Daniel Donovan&quot;</td><td>1981-04-30</td><td>83.1</td><td>1.75</td><td>1981</td><td>27.134694</td></tr></tbody></table></div>"
      ],
      "text/plain": [
       "shape: (4, 6)\n",
       "┌────────────────┬────────────┬────────┬────────┬────────────┬───────────┐\n",
       "│ name           ┆ birthdate  ┆ weight ┆ height ┆ birth_year ┆ bmi       │\n",
       "│ ---            ┆ ---        ┆ ---    ┆ ---    ┆ ---        ┆ ---       │\n",
       "│ str            ┆ date       ┆ f64    ┆ f64    ┆ i32        ┆ f64       │\n",
       "╞════════════════╪════════════╪════════╪════════╪════════════╪═══════════╡\n",
       "│ Alice Archer   ┆ 1997-01-10 ┆ 57.9   ┆ 1.56   ┆ 1997       ┆ 23.791913 │\n",
       "│ Ben Brown      ┆ 1985-02-15 ┆ 72.5   ┆ 1.77   ┆ 1985       ┆ 23.141498 │\n",
       "│ Chloe Cooper   ┆ 1983-03-22 ┆ 53.6   ┆ 1.65   ┆ 1983       ┆ 19.687787 │\n",
       "│ Daniel Donovan ┆ 1981-04-30 ┆ 83.1   ┆ 1.75   ┆ 1981       ┆ 27.134694 │\n",
       "└────────────────┴────────────┴────────┴────────┴────────────┴───────────┘"
      ]
     },
     "execution_count": 7,
     "metadata": {},
     "output_type": "execute_result"
    }
   ],
   "source": [
    "# with_columns adds columns to the dataframe instead of selecting them\n",
    "result = df.with_columns(\n",
    "    birth_year=pl.col(\"birthdate\").dt.year(),\n",
    "    bmi=pl.col(\"weight\") / (pl.col(\"height\") ** 2),\n",
    ")\n",
    "result"
   ]
  },
  {
   "cell_type": "code",
   "execution_count": 8,
   "id": "162f7a57-3757-41f1-a0cf-543605bd7bff",
   "metadata": {},
   "outputs": [
    {
     "data": {
      "text/html": [
       "<div><style>\n",
       ".dataframe > thead > tr,\n",
       ".dataframe > tbody > tr {\n",
       "  text-align: right;\n",
       "  white-space: pre-wrap;\n",
       "}\n",
       "</style>\n",
       "<small>shape: (3, 4)</small><table border=\"1\" class=\"dataframe\"><thead><tr><th>name</th><th>birthdate</th><th>weight</th><th>height</th></tr><tr><td>str</td><td>date</td><td>f64</td><td>f64</td></tr></thead><tbody><tr><td>&quot;Ben Brown&quot;</td><td>1985-02-15</td><td>72.5</td><td>1.77</td></tr><tr><td>&quot;Chloe Cooper&quot;</td><td>1983-03-22</td><td>53.6</td><td>1.65</td></tr><tr><td>&quot;Daniel Donovan&quot;</td><td>1981-04-30</td><td>83.1</td><td>1.75</td></tr></tbody></table></div>"
      ],
      "text/plain": [
       "shape: (3, 4)\n",
       "┌────────────────┬────────────┬────────┬────────┐\n",
       "│ name           ┆ birthdate  ┆ weight ┆ height │\n",
       "│ ---            ┆ ---        ┆ ---    ┆ ---    │\n",
       "│ str            ┆ date       ┆ f64    ┆ f64    │\n",
       "╞════════════════╪════════════╪════════╪════════╡\n",
       "│ Ben Brown      ┆ 1985-02-15 ┆ 72.5   ┆ 1.77   │\n",
       "│ Chloe Cooper   ┆ 1983-03-22 ┆ 53.6   ┆ 1.65   │\n",
       "│ Daniel Donovan ┆ 1981-04-30 ┆ 83.1   ┆ 1.75   │\n",
       "└────────────────┴────────────┴────────┴────────┘"
      ]
     },
     "execution_count": 8,
     "metadata": {},
     "output_type": "execute_result"
    }
   ],
   "source": [
    "result = df.filter(pl.col(\"birthdate\").dt.year() < 1990)\n",
    "result"
   ]
  },
  {
   "cell_type": "code",
   "execution_count": 9,
   "id": "e43809af-3917-402c-afb2-45e5a465edc5",
   "metadata": {},
   "outputs": [
    {
     "data": {
      "text/html": [
       "<div><style>\n",
       ".dataframe > thead > tr,\n",
       ".dataframe > tbody > tr {\n",
       "  text-align: right;\n",
       "  white-space: pre-wrap;\n",
       "}\n",
       "</style>\n",
       "<small>shape: (1, 4)</small><table border=\"1\" class=\"dataframe\"><thead><tr><th>name</th><th>birthdate</th><th>weight</th><th>height</th></tr><tr><td>str</td><td>date</td><td>f64</td><td>f64</td></tr></thead><tbody><tr><td>&quot;Ben Brown&quot;</td><td>1985-02-15</td><td>72.5</td><td>1.77</td></tr></tbody></table></div>"
      ],
      "text/plain": [
       "shape: (1, 4)\n",
       "┌───────────┬────────────┬────────┬────────┐\n",
       "│ name      ┆ birthdate  ┆ weight ┆ height │\n",
       "│ ---       ┆ ---        ┆ ---    ┆ ---    │\n",
       "│ str       ┆ date       ┆ f64    ┆ f64    │\n",
       "╞═══════════╪════════════╪════════╪════════╡\n",
       "│ Ben Brown ┆ 1985-02-15 ┆ 72.5   ┆ 1.77   │\n",
       "└───────────┴────────────┴────────┴────────┘"
      ]
     },
     "execution_count": 9,
     "metadata": {},
     "output_type": "execute_result"
    }
   ],
   "source": [
    "result = df.filter(\n",
    "    pl.col(\"birthdate\").is_between(dt.date(1982, 12, 31), dt.date(1996, 1, 1)),\n",
    "    pl.col(\"height\") > 1.7,\n",
    ")\n",
    "result"
   ]
  },
  {
   "cell_type": "code",
   "execution_count": 10,
   "id": "ec8dc8a0-4f73-488e-8045-acf938452878",
   "metadata": {},
   "outputs": [
    {
     "data": {
      "text/html": [
       "<div><style>\n",
       ".dataframe > thead > tr,\n",
       ".dataframe > tbody > tr {\n",
       "  text-align: right;\n",
       "  white-space: pre-wrap;\n",
       "}\n",
       "</style>\n",
       "<small>shape: (2, 2)</small><table border=\"1\" class=\"dataframe\"><thead><tr><th>decade</th><th>len</th></tr><tr><td>i32</td><td>u32</td></tr></thead><tbody><tr><td>1990</td><td>1</td></tr><tr><td>1980</td><td>3</td></tr></tbody></table></div>"
      ],
      "text/plain": [
       "shape: (2, 2)\n",
       "┌────────┬─────┐\n",
       "│ decade ┆ len │\n",
       "│ ---    ┆ --- │\n",
       "│ i32    ┆ u32 │\n",
       "╞════════╪═════╡\n",
       "│ 1990   ┆ 1   │\n",
       "│ 1980   ┆ 3   │\n",
       "└────────┴─────┘"
      ]
     },
     "execution_count": 10,
     "metadata": {},
     "output_type": "execute_result"
    }
   ],
   "source": [
    "result = df.group_by(\n",
    "    (pl.col(\"birthdate\").dt.year() // 10 * 10).alias(\"decade\"),\n",
    "    maintain_order=True,\n",
    ").len()\n",
    "result"
   ]
  },
  {
   "cell_type": "code",
   "execution_count": 11,
   "id": "3db04834-a660-4b6c-b7bd-a74393c51ad3",
   "metadata": {},
   "outputs": [
    {
     "data": {
      "text/html": [
       "<div><style>\n",
       ".dataframe > thead > tr,\n",
       ".dataframe > tbody > tr {\n",
       "  text-align: right;\n",
       "  white-space: pre-wrap;\n",
       "}\n",
       "</style>\n",
       "<small>shape: (2, 4)</small><table border=\"1\" class=\"dataframe\"><thead><tr><th>decade</th><th>sample_size</th><th>avg_weight</th><th>tallest</th></tr><tr><td>i32</td><td>u32</td><td>f64</td><td>f64</td></tr></thead><tbody><tr><td>1990</td><td>1</td><td>57.9</td><td>1.56</td></tr><tr><td>1980</td><td>3</td><td>69.73</td><td>1.77</td></tr></tbody></table></div>"
      ],
      "text/plain": [
       "shape: (2, 4)\n",
       "┌────────┬─────────────┬────────────┬─────────┐\n",
       "│ decade ┆ sample_size ┆ avg_weight ┆ tallest │\n",
       "│ ---    ┆ ---         ┆ ---        ┆ ---     │\n",
       "│ i32    ┆ u32         ┆ f64        ┆ f64     │\n",
       "╞════════╪═════════════╪════════════╪═════════╡\n",
       "│ 1990   ┆ 1           ┆ 57.9       ┆ 1.56    │\n",
       "│ 1980   ┆ 3           ┆ 69.73      ┆ 1.77    │\n",
       "└────────┴─────────────┴────────────┴─────────┘"
      ]
     },
     "execution_count": 11,
     "metadata": {},
     "output_type": "execute_result"
    }
   ],
   "source": [
    "result = df.group_by(\n",
    "    (pl.col(\"birthdate\").dt.year() // 10 * 10).alias(\"decade\"),\n",
    "    maintain_order=True,\n",
    ").agg(\n",
    "    pl.len().alias(\"sample_size\"),\n",
    "    pl.col(\"weight\").mean().round(2).alias(\"avg_weight\"),\n",
    "    pl.col(\"height\").max().alias(\"tallest\"),\n",
    ")\n",
    "result"
   ]
  },
  {
   "cell_type": "code",
   "execution_count": 12,
   "id": "e99efdbf-169f-463b-9cbc-b2133c4cf2c6",
   "metadata": {},
   "outputs": [
    {
     "data": {
      "text/html": [
       "<div><style>\n",
       ".dataframe > thead > tr,\n",
       ".dataframe > tbody > tr {\n",
       "  text-align: right;\n",
       "  white-space: pre-wrap;\n",
       "}\n",
       "</style>\n",
       "<small>shape: (2, 4)</small><table border=\"1\" class=\"dataframe\"><thead><tr><th>decade</th><th>name</th><th>avg_weight</th><th>avg_height</th></tr><tr><td>i32</td><td>list[str]</td><td>f64</td><td>f64</td></tr></thead><tbody><tr><td>1990</td><td>[&quot;Alice&quot;]</td><td>57.9</td><td>1.56</td></tr><tr><td>1980</td><td>[&quot;Ben&quot;, &quot;Chloe&quot;, &quot;Daniel&quot;]</td><td>69.73</td><td>1.72</td></tr></tbody></table></div>"
      ],
      "text/plain": [
       "shape: (2, 4)\n",
       "┌────────┬────────────────────────────┬────────────┬────────────┐\n",
       "│ decade ┆ name                       ┆ avg_weight ┆ avg_height │\n",
       "│ ---    ┆ ---                        ┆ ---        ┆ ---        │\n",
       "│ i32    ┆ list[str]                  ┆ f64        ┆ f64        │\n",
       "╞════════╪════════════════════════════╪════════════╪════════════╡\n",
       "│ 1990   ┆ [\"Alice\"]                  ┆ 57.9       ┆ 1.56       │\n",
       "│ 1980   ┆ [\"Ben\", \"Chloe\", \"Daniel\"] ┆ 69.73      ┆ 1.72       │\n",
       "└────────┴────────────────────────────┴────────────┴────────────┘"
      ]
     },
     "execution_count": 12,
     "metadata": {},
     "output_type": "execute_result"
    }
   ],
   "source": [
    "result = (\n",
    "    df.with_columns(\n",
    "        (pl.col(\"birthdate\").dt.year() // 10 * 10).alias(\"decade\"),\n",
    "        pl.col(\"name\").str.split(by=\" \").list.first(),\n",
    "    )\n",
    "    .select(\n",
    "        pl.all().exclude(\"birthdate\"),\n",
    "    )\n",
    "    .group_by(\n",
    "        pl.col(\"decade\"),\n",
    "        maintain_order=True,\n",
    "    )\n",
    "    .agg(\n",
    "        pl.col(\"name\"),\n",
    "        pl.col(\"weight\", \"height\").mean().round(2).name.prefix(\"avg_\"),\n",
    "    )\n",
    ")\n",
    "result"
   ]
  },
  {
   "cell_type": "code",
   "execution_count": 13,
   "id": "85b2b5fe-c50b-415f-983c-e107710e8f45",
   "metadata": {},
   "outputs": [
    {
     "data": {
      "text/html": [
       "<div><style>\n",
       ".dataframe > thead > tr,\n",
       ".dataframe > tbody > tr {\n",
       "  text-align: right;\n",
       "  white-space: pre-wrap;\n",
       "}\n",
       "</style>\n",
       "<small>shape: (4, 4)</small><table border=\"1\" class=\"dataframe\"><thead><tr><th>name</th><th>birthdate</th><th>weight</th><th>height</th></tr><tr><td>str</td><td>date</td><td>f64</td><td>f64</td></tr></thead><tbody><tr><td>&quot;Alice Archer&quot;</td><td>1997-01-10</td><td>57.9</td><td>1.56</td></tr><tr><td>&quot;Ben Brown&quot;</td><td>1985-02-15</td><td>72.5</td><td>1.77</td></tr><tr><td>&quot;Chloe Cooper&quot;</td><td>1983-03-22</td><td>53.6</td><td>1.65</td></tr><tr><td>&quot;Daniel Donovan&quot;</td><td>1981-04-30</td><td>83.1</td><td>1.75</td></tr></tbody></table></div>"
      ],
      "text/plain": [
       "shape: (4, 4)\n",
       "┌────────────────┬────────────┬────────┬────────┐\n",
       "│ name           ┆ birthdate  ┆ weight ┆ height │\n",
       "│ ---            ┆ ---        ┆ ---    ┆ ---    │\n",
       "│ str            ┆ date       ┆ f64    ┆ f64    │\n",
       "╞════════════════╪════════════╪════════╪════════╡\n",
       "│ Alice Archer   ┆ 1997-01-10 ┆ 57.9   ┆ 1.56   │\n",
       "│ Ben Brown      ┆ 1985-02-15 ┆ 72.5   ┆ 1.77   │\n",
       "│ Chloe Cooper   ┆ 1983-03-22 ┆ 53.6   ┆ 1.65   │\n",
       "│ Daniel Donovan ┆ 1981-04-30 ┆ 83.1   ┆ 1.75   │\n",
       "└────────────────┴────────────┴────────┴────────┘"
      ]
     },
     "execution_count": 13,
     "metadata": {},
     "output_type": "execute_result"
    }
   ],
   "source": [
    "df"
   ]
  },
  {
   "cell_type": "code",
   "execution_count": 14,
   "id": "9636fc99-c9ed-4410-acab-a1d492214e51",
   "metadata": {},
   "outputs": [
    {
     "data": {
      "text/html": [
       "<div><style>\n",
       ".dataframe > thead > tr,\n",
       ".dataframe > tbody > tr {\n",
       "  text-align: right;\n",
       "  white-space: pre-wrap;\n",
       "}\n",
       "</style>\n",
       "<small>shape: (4, 5)</small><table border=\"1\" class=\"dataframe\"><thead><tr><th>name</th><th>birthdate</th><th>weight</th><th>height</th><th>decade</th></tr><tr><td>str</td><td>date</td><td>f64</td><td>f64</td><td>i32</td></tr></thead><tbody><tr><td>&quot;Alice&quot;</td><td>1997-01-10</td><td>57.9</td><td>1.56</td><td>1990</td></tr><tr><td>&quot;Ben&quot;</td><td>1985-02-15</td><td>72.5</td><td>1.77</td><td>1980</td></tr><tr><td>&quot;Chloe&quot;</td><td>1983-03-22</td><td>53.6</td><td>1.65</td><td>1980</td></tr><tr><td>&quot;Daniel&quot;</td><td>1981-04-30</td><td>83.1</td><td>1.75</td><td>1980</td></tr></tbody></table></div>"
      ],
      "text/plain": [
       "shape: (4, 5)\n",
       "┌────────┬────────────┬────────┬────────┬────────┐\n",
       "│ name   ┆ birthdate  ┆ weight ┆ height ┆ decade │\n",
       "│ ---    ┆ ---        ┆ ---    ┆ ---    ┆ ---    │\n",
       "│ str    ┆ date       ┆ f64    ┆ f64    ┆ i32    │\n",
       "╞════════╪════════════╪════════╪════════╪════════╡\n",
       "│ Alice  ┆ 1997-01-10 ┆ 57.9   ┆ 1.56   ┆ 1990   │\n",
       "│ Ben    ┆ 1985-02-15 ┆ 72.5   ┆ 1.77   ┆ 1980   │\n",
       "│ Chloe  ┆ 1983-03-22 ┆ 53.6   ┆ 1.65   ┆ 1980   │\n",
       "│ Daniel ┆ 1981-04-30 ┆ 83.1   ┆ 1.75   ┆ 1980   │\n",
       "└────────┴────────────┴────────┴────────┴────────┘"
      ]
     },
     "execution_count": 14,
     "metadata": {},
     "output_type": "execute_result"
    }
   ],
   "source": [
    "df.with_columns(\n",
    "    (pl.col(\"birthdate\").dt.year() // 10 * 10).alias(\"decade\"),\n",
    "    pl.col(\"name\").str.split(by=\" \").list.first(),\n",
    ")"
   ]
  },
  {
   "cell_type": "code",
   "execution_count": 15,
   "id": "cb3e2856-a535-4daa-8548-fd7df76d2f89",
   "metadata": {},
   "outputs": [
    {
     "data": {
      "text/html": [
       "<div><style>\n",
       ".dataframe > thead > tr,\n",
       ".dataframe > tbody > tr {\n",
       "  text-align: right;\n",
       "  white-space: pre-wrap;\n",
       "}\n",
       "</style>\n",
       "<small>shape: (4, 4)</small><table border=\"1\" class=\"dataframe\"><thead><tr><th>name</th><th>weight</th><th>height</th><th>decade</th></tr><tr><td>str</td><td>f64</td><td>f64</td><td>i32</td></tr></thead><tbody><tr><td>&quot;Alice&quot;</td><td>57.9</td><td>1.56</td><td>1990</td></tr><tr><td>&quot;Ben&quot;</td><td>72.5</td><td>1.77</td><td>1980</td></tr><tr><td>&quot;Chloe&quot;</td><td>53.6</td><td>1.65</td><td>1980</td></tr><tr><td>&quot;Daniel&quot;</td><td>83.1</td><td>1.75</td><td>1980</td></tr></tbody></table></div>"
      ],
      "text/plain": [
       "shape: (4, 4)\n",
       "┌────────┬────────┬────────┬────────┐\n",
       "│ name   ┆ weight ┆ height ┆ decade │\n",
       "│ ---    ┆ ---    ┆ ---    ┆ ---    │\n",
       "│ str    ┆ f64    ┆ f64    ┆ i32    │\n",
       "╞════════╪════════╪════════╪════════╡\n",
       "│ Alice  ┆ 57.9   ┆ 1.56   ┆ 1990   │\n",
       "│ Ben    ┆ 72.5   ┆ 1.77   ┆ 1980   │\n",
       "│ Chloe  ┆ 53.6   ┆ 1.65   ┆ 1980   │\n",
       "│ Daniel ┆ 83.1   ┆ 1.75   ┆ 1980   │\n",
       "└────────┴────────┴────────┴────────┘"
      ]
     },
     "execution_count": 15,
     "metadata": {},
     "output_type": "execute_result"
    }
   ],
   "source": [
    "(\n",
    "    df.with_columns(\n",
    "        (pl.col(\"birthdate\").dt.year() // 10 * 10).alias(\"decade\"),\n",
    "        pl.col(\"name\").str.split(by=\" \").list.first(),\n",
    "    ).select(\n",
    "        pl.all().exclude(\"birthdate\"),\n",
    "    )\n",
    ")"
   ]
  },
  {
   "cell_type": "code",
   "execution_count": 16,
   "id": "7dc6407c-792b-4519-8a37-b7c79ab644c2",
   "metadata": {},
   "outputs": [
    {
     "data": {
      "text/plain": [
       "<polars.dataframe.group_by.GroupBy at 0xffff8b5c62a0>"
      ]
     },
     "execution_count": 16,
     "metadata": {},
     "output_type": "execute_result"
    }
   ],
   "source": [
    "(\n",
    "    df.with_columns(\n",
    "        (pl.col(\"birthdate\").dt.year() // 10 * 10).alias(\"decade\"),\n",
    "        pl.col(\"name\").str.split(by=\" \").list.first(),\n",
    "    )\n",
    "    .select(\n",
    "        pl.all().exclude(\"birthdate\"),\n",
    "    )\n",
    "    .group_by(\n",
    "        pl.col(\"decade\"),\n",
    "        maintain_order=True,\n",
    "    )\n",
    ")"
   ]
  },
  {
   "cell_type": "code",
   "execution_count": 17,
   "id": "9ca0d16a-df93-4ca2-99bc-892fbacd9ddd",
   "metadata": {},
   "outputs": [
    {
     "data": {
      "text/html": [
       "<div><style>\n",
       ".dataframe > thead > tr,\n",
       ".dataframe > tbody > tr {\n",
       "  text-align: right;\n",
       "  white-space: pre-wrap;\n",
       "}\n",
       "</style>\n",
       "<small>shape: (2, 4)</small><table border=\"1\" class=\"dataframe\"><thead><tr><th>decade</th><th>name</th><th>avg_weight</th><th>avg_height</th></tr><tr><td>i32</td><td>list[str]</td><td>f64</td><td>f64</td></tr></thead><tbody><tr><td>1990</td><td>[&quot;Alice&quot;]</td><td>57.9</td><td>1.56</td></tr><tr><td>1980</td><td>[&quot;Ben&quot;, &quot;Chloe&quot;, &quot;Daniel&quot;]</td><td>69.73</td><td>1.72</td></tr></tbody></table></div>"
      ],
      "text/plain": [
       "shape: (2, 4)\n",
       "┌────────┬────────────────────────────┬────────────┬────────────┐\n",
       "│ decade ┆ name                       ┆ avg_weight ┆ avg_height │\n",
       "│ ---    ┆ ---                        ┆ ---        ┆ ---        │\n",
       "│ i32    ┆ list[str]                  ┆ f64        ┆ f64        │\n",
       "╞════════╪════════════════════════════╪════════════╪════════════╡\n",
       "│ 1990   ┆ [\"Alice\"]                  ┆ 57.9       ┆ 1.56       │\n",
       "│ 1980   ┆ [\"Ben\", \"Chloe\", \"Daniel\"] ┆ 69.73      ┆ 1.72       │\n",
       "└────────┴────────────────────────────┴────────────┴────────────┘"
      ]
     },
     "execution_count": 17,
     "metadata": {},
     "output_type": "execute_result"
    }
   ],
   "source": [
    "(\n",
    "    df.with_columns(\n",
    "        (pl.col(\"birthdate\").dt.year() // 10 * 10).alias(\"decade\"),\n",
    "        pl.col(\"name\").str.split(by=\" \").list.first(),\n",
    "    )\n",
    "    .select(\n",
    "        pl.all().exclude(\"birthdate\"),\n",
    "    )\n",
    "    .group_by(\n",
    "        pl.col(\"decade\"),\n",
    "        maintain_order=True,\n",
    "    )\n",
    "    .agg(\n",
    "        pl.col(\"name\"),\n",
    "        pl.col(\"weight\", \"height\").mean().round(2).name.prefix(\"avg_\"),\n",
    "    )\n",
    ")"
   ]
  },
  {
   "cell_type": "markdown",
   "id": "8dd6bb27-4386-444e-a600-45af307f8d99",
   "metadata": {},
   "source": [
    "# Joining dataframes"
   ]
  },
  {
   "cell_type": "code",
   "execution_count": 18,
   "id": "664265e8-247a-4df0-b806-e0957a7b7536",
   "metadata": {},
   "outputs": [
    {
     "data": {
      "text/html": [
       "<div><style>\n",
       ".dataframe > thead > tr,\n",
       ".dataframe > tbody > tr {\n",
       "  text-align: right;\n",
       "  white-space: pre-wrap;\n",
       "}\n",
       "</style>\n",
       "<small>shape: (4, 4)</small><table border=\"1\" class=\"dataframe\"><thead><tr><th>name</th><th>birthdate</th><th>weight</th><th>height</th></tr><tr><td>str</td><td>date</td><td>f64</td><td>f64</td></tr></thead><tbody><tr><td>&quot;Alice Archer&quot;</td><td>1997-01-10</td><td>57.9</td><td>1.56</td></tr><tr><td>&quot;Ben Brown&quot;</td><td>1985-02-15</td><td>72.5</td><td>1.77</td></tr><tr><td>&quot;Chloe Cooper&quot;</td><td>1983-03-22</td><td>53.6</td><td>1.65</td></tr><tr><td>&quot;Daniel Donovan&quot;</td><td>1981-04-30</td><td>83.1</td><td>1.75</td></tr></tbody></table></div>"
      ],
      "text/plain": [
       "shape: (4, 4)\n",
       "┌────────────────┬────────────┬────────┬────────┐\n",
       "│ name           ┆ birthdate  ┆ weight ┆ height │\n",
       "│ ---            ┆ ---        ┆ ---    ┆ ---    │\n",
       "│ str            ┆ date       ┆ f64    ┆ f64    │\n",
       "╞════════════════╪════════════╪════════╪════════╡\n",
       "│ Alice Archer   ┆ 1997-01-10 ┆ 57.9   ┆ 1.56   │\n",
       "│ Ben Brown      ┆ 1985-02-15 ┆ 72.5   ┆ 1.77   │\n",
       "│ Chloe Cooper   ┆ 1983-03-22 ┆ 53.6   ┆ 1.65   │\n",
       "│ Daniel Donovan ┆ 1981-04-30 ┆ 83.1   ┆ 1.75   │\n",
       "└────────────────┴────────────┴────────┴────────┘"
      ]
     },
     "execution_count": 18,
     "metadata": {},
     "output_type": "execute_result"
    }
   ],
   "source": [
    "df"
   ]
  },
  {
   "cell_type": "code",
   "execution_count": 19,
   "id": "48b6c9a1-770a-4087-ae93-ca9615a7e25b",
   "metadata": {},
   "outputs": [
    {
     "data": {
      "text/html": [
       "<div><style>\n",
       ".dataframe > thead > tr,\n",
       ".dataframe > tbody > tr {\n",
       "  text-align: right;\n",
       "  white-space: pre-wrap;\n",
       "}\n",
       "</style>\n",
       "<small>shape: (4, 3)</small><table border=\"1\" class=\"dataframe\"><thead><tr><th>name</th><th>parent</th><th>siblings</th></tr><tr><td>str</td><td>bool</td><td>i64</td></tr></thead><tbody><tr><td>&quot;Ben Brown&quot;</td><td>true</td><td>1</td></tr><tr><td>&quot;Daniel Donovan&quot;</td><td>false</td><td>2</td></tr><tr><td>&quot;Alice Archer&quot;</td><td>false</td><td>3</td></tr><tr><td>&quot;Chloe Cooper&quot;</td><td>false</td><td>4</td></tr></tbody></table></div>"
      ],
      "text/plain": [
       "shape: (4, 3)\n",
       "┌────────────────┬────────┬──────────┐\n",
       "│ name           ┆ parent ┆ siblings │\n",
       "│ ---            ┆ ---    ┆ ---      │\n",
       "│ str            ┆ bool   ┆ i64      │\n",
       "╞════════════════╪════════╪══════════╡\n",
       "│ Ben Brown      ┆ true   ┆ 1        │\n",
       "│ Daniel Donovan ┆ false  ┆ 2        │\n",
       "│ Alice Archer   ┆ false  ┆ 3        │\n",
       "│ Chloe Cooper   ┆ false  ┆ 4        │\n",
       "└────────────────┴────────┴──────────┘"
      ]
     },
     "execution_count": 19,
     "metadata": {},
     "output_type": "execute_result"
    }
   ],
   "source": [
    "df2 = pl.DataFrame(\n",
    "    {\n",
    "        \"name\": [\"Ben Brown\", \"Daniel Donovan\", \"Alice Archer\", \"Chloe Cooper\"],\n",
    "        \"parent\": [True, False, False, False],\n",
    "        \"siblings\": [1, 2, 3, 4],\n",
    "    }\n",
    ")\n",
    "df2"
   ]
  },
  {
   "cell_type": "code",
   "execution_count": 20,
   "id": "09244017",
   "metadata": {},
   "outputs": [
    {
     "data": {
      "text/html": [
       "<div><style>\n",
       ".dataframe > thead > tr,\n",
       ".dataframe > tbody > tr {\n",
       "  text-align: right;\n",
       "  white-space: pre-wrap;\n",
       "}\n",
       "</style>\n",
       "<small>shape: (4, 6)</small><table border=\"1\" class=\"dataframe\"><thead><tr><th>name</th><th>birthdate</th><th>weight</th><th>height</th><th>parent</th><th>siblings</th></tr><tr><td>str</td><td>date</td><td>f64</td><td>f64</td><td>bool</td><td>i64</td></tr></thead><tbody><tr><td>&quot;Alice Archer&quot;</td><td>1997-01-10</td><td>57.9</td><td>1.56</td><td>false</td><td>3</td></tr><tr><td>&quot;Ben Brown&quot;</td><td>1985-02-15</td><td>72.5</td><td>1.77</td><td>true</td><td>1</td></tr><tr><td>&quot;Chloe Cooper&quot;</td><td>1983-03-22</td><td>53.6</td><td>1.65</td><td>false</td><td>4</td></tr><tr><td>&quot;Daniel Donovan&quot;</td><td>1981-04-30</td><td>83.1</td><td>1.75</td><td>false</td><td>2</td></tr></tbody></table></div>"
      ],
      "text/plain": [
       "shape: (4, 6)\n",
       "┌────────────────┬────────────┬────────┬────────┬────────┬──────────┐\n",
       "│ name           ┆ birthdate  ┆ weight ┆ height ┆ parent ┆ siblings │\n",
       "│ ---            ┆ ---        ┆ ---    ┆ ---    ┆ ---    ┆ ---      │\n",
       "│ str            ┆ date       ┆ f64    ┆ f64    ┆ bool   ┆ i64      │\n",
       "╞════════════════╪════════════╪════════╪════════╪════════╪══════════╡\n",
       "│ Alice Archer   ┆ 1997-01-10 ┆ 57.9   ┆ 1.56   ┆ false  ┆ 3        │\n",
       "│ Ben Brown      ┆ 1985-02-15 ┆ 72.5   ┆ 1.77   ┆ true   ┆ 1        │\n",
       "│ Chloe Cooper   ┆ 1983-03-22 ┆ 53.6   ┆ 1.65   ┆ false  ┆ 4        │\n",
       "│ Daniel Donovan ┆ 1981-04-30 ┆ 83.1   ┆ 1.75   ┆ false  ┆ 2        │\n",
       "└────────────────┴────────────┴────────┴────────┴────────┴──────────┘"
      ]
     },
     "execution_count": 20,
     "metadata": {},
     "output_type": "execute_result"
    }
   ],
   "source": [
    "df.join(df2, on=\"name\", how=\"left\")"
   ]
  },
  {
   "cell_type": "markdown",
   "id": "8cc6205b-07f1-4462-93b4-756fa1f35da8",
   "metadata": {},
   "source": [
    "# Concatenating dataframes"
   ]
  },
  {
   "cell_type": "code",
   "execution_count": 21,
   "id": "b28cf43b-9dfe-4618-88c8-fd2675c9531f",
   "metadata": {},
   "outputs": [
    {
     "data": {
      "text/html": [
       "<div><style>\n",
       ".dataframe > thead > tr,\n",
       ".dataframe > tbody > tr {\n",
       "  text-align: right;\n",
       "  white-space: pre-wrap;\n",
       "}\n",
       "</style>\n",
       "<small>shape: (8, 4)</small><table border=\"1\" class=\"dataframe\"><thead><tr><th>name</th><th>birthdate</th><th>weight</th><th>height</th></tr><tr><td>str</td><td>date</td><td>f64</td><td>f64</td></tr></thead><tbody><tr><td>&quot;Alice Archer&quot;</td><td>1997-01-10</td><td>57.9</td><td>1.56</td></tr><tr><td>&quot;Ben Brown&quot;</td><td>1985-02-15</td><td>72.5</td><td>1.77</td></tr><tr><td>&quot;Chloe Cooper&quot;</td><td>1983-03-22</td><td>53.6</td><td>1.65</td></tr><tr><td>&quot;Daniel Donovan&quot;</td><td>1981-04-30</td><td>83.1</td><td>1.75</td></tr><tr><td>&quot;Ethan Edwards&quot;</td><td>1977-05-10</td><td>67.9</td><td>1.76</td></tr><tr><td>&quot;Fiona Foster&quot;</td><td>1975-06-23</td><td>72.5</td><td>1.6</td></tr><tr><td>&quot;Grace Gibson&quot;</td><td>1973-07-22</td><td>57.6</td><td>1.66</td></tr><tr><td>&quot;Henry Harris&quot;</td><td>1971-08-03</td><td>93.1</td><td>1.8</td></tr></tbody></table></div>"
      ],
      "text/plain": [
       "shape: (8, 4)\n",
       "┌────────────────┬────────────┬────────┬────────┐\n",
       "│ name           ┆ birthdate  ┆ weight ┆ height │\n",
       "│ ---            ┆ ---        ┆ ---    ┆ ---    │\n",
       "│ str            ┆ date       ┆ f64    ┆ f64    │\n",
       "╞════════════════╪════════════╪════════╪════════╡\n",
       "│ Alice Archer   ┆ 1997-01-10 ┆ 57.9   ┆ 1.56   │\n",
       "│ Ben Brown      ┆ 1985-02-15 ┆ 72.5   ┆ 1.77   │\n",
       "│ Chloe Cooper   ┆ 1983-03-22 ┆ 53.6   ┆ 1.65   │\n",
       "│ Daniel Donovan ┆ 1981-04-30 ┆ 83.1   ┆ 1.75   │\n",
       "│ Ethan Edwards  ┆ 1977-05-10 ┆ 67.9   ┆ 1.76   │\n",
       "│ Fiona Foster   ┆ 1975-06-23 ┆ 72.5   ┆ 1.6    │\n",
       "│ Grace Gibson   ┆ 1973-07-22 ┆ 57.6   ┆ 1.66   │\n",
       "│ Henry Harris   ┆ 1971-08-03 ┆ 93.1   ┆ 1.8    │\n",
       "└────────────────┴────────────┴────────┴────────┘"
      ]
     },
     "execution_count": 21,
     "metadata": {},
     "output_type": "execute_result"
    }
   ],
   "source": [
    "df3 = pl.DataFrame(\n",
    "    {\n",
    "        \"name\": [\"Ethan Edwards\", \"Fiona Foster\", \"Grace Gibson\", \"Henry Harris\"],\n",
    "        \"birthdate\": [\n",
    "            dt.date(1977, 5, 10),\n",
    "            dt.date(1975, 6, 23),\n",
    "            dt.date(1973, 7, 22),\n",
    "            dt.date(1971, 8, 3),\n",
    "        ],\n",
    "        \"weight\": [67.9, 72.5, 57.6, 93.1],  # (kg)\n",
    "        \"height\": [1.76, 1.6, 1.66, 1.8],  # (m)\n",
    "    }\n",
    ")\n",
    "\n",
    "pl.concat([df, df3], how=\"vertical\")"
   ]
  }
 ],
 "metadata": {
  "kernelspec": {
   "display_name": "data-devcontainer (3.12.11)",
   "language": "python",
   "name": "python3"
  },
  "language_info": {
   "codemirror_mode": {
    "name": "ipython",
    "version": 3
   },
   "file_extension": ".py",
   "mimetype": "text/x-python",
   "name": "python",
   "nbconvert_exporter": "python",
   "pygments_lexer": "ipython3",
   "version": "3.12.11"
  }
 },
 "nbformat": 4,
 "nbformat_minor": 5
}
