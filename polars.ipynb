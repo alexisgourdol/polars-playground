{
 "cells": [
  {
   "cell_type": "code",
   "execution_count": 8,
   "id": "a3dc0d6e-8eee-4719-bf99-bc406beb8a62",
   "metadata": {},
   "outputs": [
    {
     "data": {
      "text/plain": [
       "'3.12.11 (main, Sep  9 2025, 06:00:18) [GCC 14.2.0]'"
      ]
     },
     "execution_count": 8,
     "metadata": {},
     "output_type": "execute_result"
    }
   ],
   "source": [
    "import sys; sys.version"
   ]
  },
  {
   "cell_type": "code",
   "execution_count": 2,
   "id": "5cbdba7b-c41a-4d79-bc20-2d4abfd1ff93",
   "metadata": {},
   "outputs": [],
   "source": [
    "import polars as pl\n",
    "import datetime as dt"
   ]
  },
  {
   "cell_type": "code",
   "execution_count": 3,
   "id": "02dd63da-dad4-4f73-94a9-c0ca38c71134",
   "metadata": {},
   "outputs": [
    {
     "name": "stdout",
     "output_type": "stream",
     "text": [
      "shape: (4, 4)\n",
      "┌────────────────┬────────────┬────────┬────────┐\n",
      "│ name           ┆ birthdate  ┆ weight ┆ height │\n",
      "│ ---            ┆ ---        ┆ ---    ┆ ---    │\n",
      "│ str            ┆ date       ┆ f64    ┆ f64    │\n",
      "╞════════════════╪════════════╪════════╪════════╡\n",
      "│ Alice Archer   ┆ 1997-01-10 ┆ 57.9   ┆ 1.56   │\n",
      "│ Ben Brown      ┆ 1985-02-15 ┆ 72.5   ┆ 1.77   │\n",
      "│ Chloe Cooper   ┆ 1983-03-22 ┆ 53.6   ┆ 1.65   │\n",
      "│ Daniel Donovan ┆ 1981-04-30 ┆ 83.1   ┆ 1.75   │\n",
      "└────────────────┴────────────┴────────┴────────┘\n"
     ]
    }
   ],
   "source": [
    "df = pl.DataFrame(\n",
    "    {\n",
    "        \"name\": [\"Alice Archer\", \"Ben Brown\", \"Chloe Cooper\", \"Daniel Donovan\"],\n",
    "        \"birthdate\": [\n",
    "            dt.date(1997, 1, 10),\n",
    "            dt.date(1985, 2, 15),\n",
    "            dt.date(1983, 3, 22),\n",
    "            dt.date(1981, 4, 30),\n",
    "        ],\n",
    "        \"weight\": [57.9, 72.5, 53.6, 83.1],  # (kg)\n",
    "        \"height\": [1.56, 1.77, 1.65, 1.75],  # (m)\n",
    "    }\n",
    ")\n",
    "\n",
    "print(df)"
   ]
  },
  {
   "cell_type": "markdown",
   "id": "e2e35700-b326-40bb-9d90-f0e0f7230984",
   "metadata": {},
   "source": [
    "# Expression"
   ]
  },
  {
   "cell_type": "code",
   "execution_count": 6,
   "id": "b51715e6-5901-42f1-88b0-793eb3768f00",
   "metadata": {},
   "outputs": [
    {
     "data": {
      "text/html": [
       "[(col(\"weight\")) / (col(\"height\").pow([dyn int: 2]))]"
      ],
      "text/plain": [
       "<Expr ['[(col(\"weight\")) / (col(\"heigh…'] at 0xFFFF6F517EF0>"
      ]
     },
     "execution_count": 6,
     "metadata": {},
     "output_type": "execute_result"
    }
   ],
   "source": [
    "pl.col(\"weight\") / (pl.col(\"height\") ** 2)"
   ]
  },
  {
   "cell_type": "markdown",
   "id": "ab5ae097-aa4f-465e-a0c4-efa0443975e5",
   "metadata": {},
   "source": [
    "# Contexts\n",
    "\n",
    "`select`, `with_columns`, `filter`, `group_by`"
   ]
  },
  {
   "cell_type": "code",
   "execution_count": 11,
   "id": "37c7ef74-9fb7-45f6-b46e-54e52411b287",
   "metadata": {},
   "outputs": [
    {
     "name": "stdout",
     "output_type": "stream",
     "text": [
      "shape: (4, 3)\n",
      "┌────────────────┬────────────┬───────────┐\n",
      "│ name           ┆ birth_year ┆ bmi       │\n",
      "│ ---            ┆ ---        ┆ ---       │\n",
      "│ str            ┆ i32        ┆ f64       │\n",
      "╞════════════════╪════════════╪═══════════╡\n",
      "│ Alice Archer   ┆ 1997       ┆ 23.791913 │\n",
      "│ Ben Brown      ┆ 1985       ┆ 23.141498 │\n",
      "│ Chloe Cooper   ┆ 1983       ┆ 19.687787 │\n",
      "│ Daniel Donovan ┆ 1981       ┆ 27.134694 │\n",
      "└────────────────┴────────────┴───────────┘\n",
      "CPU times: user 1.67 ms, sys: 111 μs, total: 1.78 ms\n",
      "Wall time: 950 μs\n"
     ]
    }
   ],
   "source": [
    "%%time\n",
    "result = df.select(\n",
    "    pl.col(\"name\"),\n",
    "    pl.col(\"birthdate\").dt.year().alias(\"birth_year\"),\n",
    "    (pl.col(\"weight\") / (pl.col(\"height\") ** 2)).alias(\"bmi\"),\n",
    ")\n",
    "print(result)"
   ]
  },
  {
   "cell_type": "code",
   "execution_count": 12,
   "id": "b9a7fbc3-74f7-4c58-91dd-018178af0917",
   "metadata": {},
   "outputs": [
    {
     "name": "stdout",
     "output_type": "stream",
     "text": [
      "shape: (4, 3)\n",
      "┌────────────────┬───────────┬───────────┐\n",
      "│ name           ┆ weight-5% ┆ height-5% │\n",
      "│ ---            ┆ ---       ┆ ---       │\n",
      "│ str            ┆ f64       ┆ f64       │\n",
      "╞════════════════╪═══════════╪═══════════╡\n",
      "│ Alice Archer   ┆ 55.0      ┆ 1.48      │\n",
      "│ Ben Brown      ┆ 68.88     ┆ 1.68      │\n",
      "│ Chloe Cooper   ┆ 50.92     ┆ 1.57      │\n",
      "│ Daniel Donovan ┆ 78.94     ┆ 1.66      │\n",
      "└────────────────┴───────────┴───────────┘\n"
     ]
    }
   ],
   "source": [
    "result = df.select(\n",
    "    pl.col(\"name\"),\n",
    "    (pl.col(\"weight\", \"height\") * 0.95).round(2).name.suffix(\"-5%\"),\n",
    ")\n",
    "print(result)"
   ]
  },
  {
   "cell_type": "code",
   "execution_count": 15,
   "id": "3d7dc825-de09-417e-a635-31d7e0caa792",
   "metadata": {},
   "outputs": [
    {
     "name": "stdout",
     "output_type": "stream",
     "text": [
      "shape: (4, 6)\n",
      "┌────────────────┬────────────┬────────┬────────┬────────────┬───────────┐\n",
      "│ name           ┆ birthdate  ┆ weight ┆ height ┆ birth_year ┆ bmi       │\n",
      "│ ---            ┆ ---        ┆ ---    ┆ ---    ┆ ---        ┆ ---       │\n",
      "│ str            ┆ date       ┆ f64    ┆ f64    ┆ i32        ┆ f64       │\n",
      "╞════════════════╪════════════╪════════╪════════╪════════════╪═══════════╡\n",
      "│ Alice Archer   ┆ 1997-01-10 ┆ 57.9   ┆ 1.56   ┆ 1997       ┆ 23.791913 │\n",
      "│ Ben Brown      ┆ 1985-02-15 ┆ 72.5   ┆ 1.77   ┆ 1985       ┆ 23.141498 │\n",
      "│ Chloe Cooper   ┆ 1983-03-22 ┆ 53.6   ┆ 1.65   ┆ 1983       ┆ 19.687787 │\n",
      "│ Daniel Donovan ┆ 1981-04-30 ┆ 83.1   ┆ 1.75   ┆ 1981       ┆ 27.134694 │\n",
      "└────────────────┴────────────┴────────┴────────┴────────────┴───────────┘\n"
     ]
    }
   ],
   "source": [
    "# with_columns adds columns to the dataframe instead of selecting them\n",
    "result = df.with_columns(\n",
    "    birth_year=pl.col(\"birthdate\").dt.year(),\n",
    "    bmi=pl.col(\"weight\") / (pl.col(\"height\") ** 2),\n",
    ")\n",
    "print(result)"
   ]
  },
  {
   "cell_type": "code",
   "execution_count": 16,
   "id": "162f7a57-3757-41f1-a0cf-543605bd7bff",
   "metadata": {},
   "outputs": [
    {
     "name": "stdout",
     "output_type": "stream",
     "text": [
      "shape: (3, 4)\n",
      "┌────────────────┬────────────┬────────┬────────┐\n",
      "│ name           ┆ birthdate  ┆ weight ┆ height │\n",
      "│ ---            ┆ ---        ┆ ---    ┆ ---    │\n",
      "│ str            ┆ date       ┆ f64    ┆ f64    │\n",
      "╞════════════════╪════════════╪════════╪════════╡\n",
      "│ Ben Brown      ┆ 1985-02-15 ┆ 72.5   ┆ 1.77   │\n",
      "│ Chloe Cooper   ┆ 1983-03-22 ┆ 53.6   ┆ 1.65   │\n",
      "│ Daniel Donovan ┆ 1981-04-30 ┆ 83.1   ┆ 1.75   │\n",
      "└────────────────┴────────────┴────────┴────────┘\n"
     ]
    }
   ],
   "source": [
    "result = df.filter(pl.col(\"birthdate\").dt.year() < 1990)\n",
    "print(result)"
   ]
  },
  {
   "cell_type": "code",
   "execution_count": 17,
   "id": "e43809af-3917-402c-afb2-45e5a465edc5",
   "metadata": {},
   "outputs": [
    {
     "name": "stdout",
     "output_type": "stream",
     "text": [
      "shape: (1, 4)\n",
      "┌───────────┬────────────┬────────┬────────┐\n",
      "│ name      ┆ birthdate  ┆ weight ┆ height │\n",
      "│ ---       ┆ ---        ┆ ---    ┆ ---    │\n",
      "│ str       ┆ date       ┆ f64    ┆ f64    │\n",
      "╞═══════════╪════════════╪════════╪════════╡\n",
      "│ Ben Brown ┆ 1985-02-15 ┆ 72.5   ┆ 1.77   │\n",
      "└───────────┴────────────┴────────┴────────┘\n"
     ]
    }
   ],
   "source": [
    "result = df.filter(\n",
    "    pl.col(\"birthdate\").is_between(dt.date(1982, 12, 31), dt.date(1996, 1, 1)),\n",
    "    pl.col(\"height\") > 1.7,\n",
    ")\n",
    "print(result)"
   ]
  },
  {
   "cell_type": "code",
   "execution_count": 18,
   "id": "ec8dc8a0-4f73-488e-8045-acf938452878",
   "metadata": {},
   "outputs": [
    {
     "name": "stdout",
     "output_type": "stream",
     "text": [
      "shape: (2, 2)\n",
      "┌────────┬─────┐\n",
      "│ decade ┆ len │\n",
      "│ ---    ┆ --- │\n",
      "│ i32    ┆ u32 │\n",
      "╞════════╪═════╡\n",
      "│ 1990   ┆ 1   │\n",
      "│ 1980   ┆ 3   │\n",
      "└────────┴─────┘\n"
     ]
    }
   ],
   "source": [
    "result = df.group_by(\n",
    "    (pl.col(\"birthdate\").dt.year() // 10 * 10).alias(\"decade\"),\n",
    "    maintain_order=True,\n",
    ").len()\n",
    "print(result)"
   ]
  },
  {
   "cell_type": "code",
   "execution_count": 19,
   "id": "3db04834-a660-4b6c-b7bd-a74393c51ad3",
   "metadata": {},
   "outputs": [
    {
     "name": "stdout",
     "output_type": "stream",
     "text": [
      "shape: (2, 4)\n",
      "┌────────┬─────────────┬────────────┬─────────┐\n",
      "│ decade ┆ sample_size ┆ avg_weight ┆ tallest │\n",
      "│ ---    ┆ ---         ┆ ---        ┆ ---     │\n",
      "│ i32    ┆ u32         ┆ f64        ┆ f64     │\n",
      "╞════════╪═════════════╪════════════╪═════════╡\n",
      "│ 1990   ┆ 1           ┆ 57.9       ┆ 1.56    │\n",
      "│ 1980   ┆ 3           ┆ 69.73      ┆ 1.77    │\n",
      "└────────┴─────────────┴────────────┴─────────┘\n"
     ]
    }
   ],
   "source": [
    "result = df.group_by(\n",
    "    (pl.col(\"birthdate\").dt.year() // 10 * 10).alias(\"decade\"),\n",
    "    maintain_order=True,\n",
    ").agg(\n",
    "    pl.len().alias(\"sample_size\"),\n",
    "    pl.col(\"weight\").mean().round(2).alias(\"avg_weight\"),\n",
    "    pl.col(\"height\").max().alias(\"tallest\"),\n",
    ")\n",
    "print(result)"
   ]
  },
  {
   "cell_type": "code",
   "execution_count": 24,
   "id": "e99efdbf-169f-463b-9cbc-b2133c4cf2c6",
   "metadata": {},
   "outputs": [
    {
     "data": {
      "text/html": [
       "<div><style>\n",
       ".dataframe > thead > tr,\n",
       ".dataframe > tbody > tr {\n",
       "  text-align: right;\n",
       "  white-space: pre-wrap;\n",
       "}\n",
       "</style>\n",
       "<small>shape: (2, 4)</small><table border=\"1\" class=\"dataframe\"><thead><tr><th>decade</th><th>name</th><th>avg_weight</th><th>avg_height</th></tr><tr><td>i32</td><td>list[str]</td><td>f64</td><td>f64</td></tr></thead><tbody><tr><td>1990</td><td>[&quot;Alice&quot;]</td><td>57.9</td><td>1.56</td></tr><tr><td>1980</td><td>[&quot;Ben&quot;, &quot;Chloe&quot;, &quot;Daniel&quot;]</td><td>69.73</td><td>1.72</td></tr></tbody></table></div>"
      ],
      "text/plain": [
       "shape: (2, 4)\n",
       "┌────────┬────────────────────────────┬────────────┬────────────┐\n",
       "│ decade ┆ name                       ┆ avg_weight ┆ avg_height │\n",
       "│ ---    ┆ ---                        ┆ ---        ┆ ---        │\n",
       "│ i32    ┆ list[str]                  ┆ f64        ┆ f64        │\n",
       "╞════════╪════════════════════════════╪════════════╪════════════╡\n",
       "│ 1990   ┆ [\"Alice\"]                  ┆ 57.9       ┆ 1.56       │\n",
       "│ 1980   ┆ [\"Ben\", \"Chloe\", \"Daniel\"] ┆ 69.73      ┆ 1.72       │\n",
       "└────────┴────────────────────────────┴────────────┴────────────┘"
      ]
     },
     "execution_count": 24,
     "metadata": {},
     "output_type": "execute_result"
    }
   ],
   "source": [
    "result = (\n",
    "    df.with_columns(\n",
    "        (pl.col(\"birthdate\").dt.year() // 10 * 10).alias(\"decade\"),\n",
    "        pl.col(\"name\").str.split(by=\" \").list.first(),\n",
    "    )\n",
    "    .select(\n",
    "        pl.all().exclude(\"birthdate\"),\n",
    "    )\n",
    "    .group_by(\n",
    "        pl.col(\"decade\"),\n",
    "        maintain_order=True,\n",
    "    )\n",
    "    .agg(\n",
    "        pl.col(\"name\"),\n",
    "        pl.col(\"weight\", \"height\").mean().round(2).name.prefix(\"avg_\"),\n",
    "    )\n",
    ")\n",
    "result"
   ]
  },
  {
   "cell_type": "code",
   "execution_count": 26,
   "id": "85b2b5fe-c50b-415f-983c-e107710e8f45",
   "metadata": {},
   "outputs": [
    {
     "data": {
      "text/html": [
       "<div><style>\n",
       ".dataframe > thead > tr,\n",
       ".dataframe > tbody > tr {\n",
       "  text-align: right;\n",
       "  white-space: pre-wrap;\n",
       "}\n",
       "</style>\n",
       "<small>shape: (4, 4)</small><table border=\"1\" class=\"dataframe\"><thead><tr><th>name</th><th>birthdate</th><th>weight</th><th>height</th></tr><tr><td>str</td><td>date</td><td>f64</td><td>f64</td></tr></thead><tbody><tr><td>&quot;Alice Archer&quot;</td><td>1997-01-10</td><td>57.9</td><td>1.56</td></tr><tr><td>&quot;Ben Brown&quot;</td><td>1985-02-15</td><td>72.5</td><td>1.77</td></tr><tr><td>&quot;Chloe Cooper&quot;</td><td>1983-03-22</td><td>53.6</td><td>1.65</td></tr><tr><td>&quot;Daniel Donovan&quot;</td><td>1981-04-30</td><td>83.1</td><td>1.75</td></tr></tbody></table></div>"
      ],
      "text/plain": [
       "shape: (4, 4)\n",
       "┌────────────────┬────────────┬────────┬────────┐\n",
       "│ name           ┆ birthdate  ┆ weight ┆ height │\n",
       "│ ---            ┆ ---        ┆ ---    ┆ ---    │\n",
       "│ str            ┆ date       ┆ f64    ┆ f64    │\n",
       "╞════════════════╪════════════╪════════╪════════╡\n",
       "│ Alice Archer   ┆ 1997-01-10 ┆ 57.9   ┆ 1.56   │\n",
       "│ Ben Brown      ┆ 1985-02-15 ┆ 72.5   ┆ 1.77   │\n",
       "│ Chloe Cooper   ┆ 1983-03-22 ┆ 53.6   ┆ 1.65   │\n",
       "│ Daniel Donovan ┆ 1981-04-30 ┆ 83.1   ┆ 1.75   │\n",
       "└────────────────┴────────────┴────────┴────────┘"
      ]
     },
     "execution_count": 26,
     "metadata": {},
     "output_type": "execute_result"
    }
   ],
   "source": [
    "df"
   ]
  },
  {
   "cell_type": "code",
   "execution_count": 25,
   "id": "9636fc99-c9ed-4410-acab-a1d492214e51",
   "metadata": {},
   "outputs": [
    {
     "data": {
      "text/html": [
       "<div><style>\n",
       ".dataframe > thead > tr,\n",
       ".dataframe > tbody > tr {\n",
       "  text-align: right;\n",
       "  white-space: pre-wrap;\n",
       "}\n",
       "</style>\n",
       "<small>shape: (4, 5)</small><table border=\"1\" class=\"dataframe\"><thead><tr><th>name</th><th>birthdate</th><th>weight</th><th>height</th><th>decade</th></tr><tr><td>str</td><td>date</td><td>f64</td><td>f64</td><td>i32</td></tr></thead><tbody><tr><td>&quot;Alice&quot;</td><td>1997-01-10</td><td>57.9</td><td>1.56</td><td>1990</td></tr><tr><td>&quot;Ben&quot;</td><td>1985-02-15</td><td>72.5</td><td>1.77</td><td>1980</td></tr><tr><td>&quot;Chloe&quot;</td><td>1983-03-22</td><td>53.6</td><td>1.65</td><td>1980</td></tr><tr><td>&quot;Daniel&quot;</td><td>1981-04-30</td><td>83.1</td><td>1.75</td><td>1980</td></tr></tbody></table></div>"
      ],
      "text/plain": [
       "shape: (4, 5)\n",
       "┌────────┬────────────┬────────┬────────┬────────┐\n",
       "│ name   ┆ birthdate  ┆ weight ┆ height ┆ decade │\n",
       "│ ---    ┆ ---        ┆ ---    ┆ ---    ┆ ---    │\n",
       "│ str    ┆ date       ┆ f64    ┆ f64    ┆ i32    │\n",
       "╞════════╪════════════╪════════╪════════╪════════╡\n",
       "│ Alice  ┆ 1997-01-10 ┆ 57.9   ┆ 1.56   ┆ 1990   │\n",
       "│ Ben    ┆ 1985-02-15 ┆ 72.5   ┆ 1.77   ┆ 1980   │\n",
       "│ Chloe  ┆ 1983-03-22 ┆ 53.6   ┆ 1.65   ┆ 1980   │\n",
       "│ Daniel ┆ 1981-04-30 ┆ 83.1   ┆ 1.75   ┆ 1980   │\n",
       "└────────┴────────────┴────────┴────────┴────────┘"
      ]
     },
     "execution_count": 25,
     "metadata": {},
     "output_type": "execute_result"
    }
   ],
   "source": [
    "df.with_columns(\n",
    "        (pl.col(\"birthdate\").dt.year() // 10 * 10).alias(\"decade\"),\n",
    "        pl.col(\"name\").str.split(by=\" \").list.first(),\n",
    ")"
   ]
  },
  {
   "cell_type": "code",
   "execution_count": 28,
   "id": "cb3e2856-a535-4daa-8548-fd7df76d2f89",
   "metadata": {},
   "outputs": [
    {
     "data": {
      "text/html": [
       "<div><style>\n",
       ".dataframe > thead > tr,\n",
       ".dataframe > tbody > tr {\n",
       "  text-align: right;\n",
       "  white-space: pre-wrap;\n",
       "}\n",
       "</style>\n",
       "<small>shape: (4, 4)</small><table border=\"1\" class=\"dataframe\"><thead><tr><th>name</th><th>weight</th><th>height</th><th>decade</th></tr><tr><td>str</td><td>f64</td><td>f64</td><td>i32</td></tr></thead><tbody><tr><td>&quot;Alice&quot;</td><td>57.9</td><td>1.56</td><td>1990</td></tr><tr><td>&quot;Ben&quot;</td><td>72.5</td><td>1.77</td><td>1980</td></tr><tr><td>&quot;Chloe&quot;</td><td>53.6</td><td>1.65</td><td>1980</td></tr><tr><td>&quot;Daniel&quot;</td><td>83.1</td><td>1.75</td><td>1980</td></tr></tbody></table></div>"
      ],
      "text/plain": [
       "shape: (4, 4)\n",
       "┌────────┬────────┬────────┬────────┐\n",
       "│ name   ┆ weight ┆ height ┆ decade │\n",
       "│ ---    ┆ ---    ┆ ---    ┆ ---    │\n",
       "│ str    ┆ f64    ┆ f64    ┆ i32    │\n",
       "╞════════╪════════╪════════╪════════╡\n",
       "│ Alice  ┆ 57.9   ┆ 1.56   ┆ 1990   │\n",
       "│ Ben    ┆ 72.5   ┆ 1.77   ┆ 1980   │\n",
       "│ Chloe  ┆ 53.6   ┆ 1.65   ┆ 1980   │\n",
       "│ Daniel ┆ 83.1   ┆ 1.75   ┆ 1980   │\n",
       "└────────┴────────┴────────┴────────┘"
      ]
     },
     "execution_count": 28,
     "metadata": {},
     "output_type": "execute_result"
    }
   ],
   "source": [
    "(\n",
    "    df.with_columns(\n",
    "        (pl.col(\"birthdate\").dt.year() // 10 * 10).alias(\"decade\"),\n",
    "        pl.col(\"name\").str.split(by=\" \").list.first(),\n",
    "    )\n",
    "    .select(\n",
    "        pl.all().exclude(\"birthdate\"),\n",
    "    )\n",
    ")"
   ]
  },
  {
   "cell_type": "code",
   "execution_count": 32,
   "id": "7dc6407c-792b-4519-8a37-b7c79ab644c2",
   "metadata": {},
   "outputs": [
    {
     "name": "stdout",
     "output_type": "stream",
     "text": [
      "CPU times: user 1.8 ms, sys: 1.05 ms, total: 2.85 ms\n",
      "Wall time: 1.24 ms\n"
     ]
    },
    {
     "data": {
      "text/plain": [
       "<polars.dataframe.group_by.GroupBy at 0xffff60f00dd0>"
      ]
     },
     "execution_count": 32,
     "metadata": {},
     "output_type": "execute_result"
    }
   ],
   "source": [
    "%%time\n",
    "(\n",
    "        df.with_columns(\n",
    "        (pl.col(\"birthdate\").dt.year() // 10 * 10).alias(\"decade\"),\n",
    "        pl.col(\"name\").str.split(by=\" \").list.first(),\n",
    "    )\n",
    "    .select(\n",
    "        pl.all().exclude(\"birthdate\"),\n",
    "    )\n",
    "    .group_by(\n",
    "        pl.col(\"decade\"),\n",
    "        maintain_order=True,\n",
    "    )\n",
    ")"
   ]
  },
  {
   "cell_type": "code",
   "execution_count": 33,
   "id": "9ca0d16a-df93-4ca2-99bc-892fbacd9ddd",
   "metadata": {},
   "outputs": [
    {
     "name": "stdout",
     "output_type": "stream",
     "text": [
      "CPU times: user 557 μs, sys: 2.81 ms, total: 3.37 ms\n",
      "Wall time: 1.79 ms\n"
     ]
    },
    {
     "data": {
      "text/html": [
       "<div><style>\n",
       ".dataframe > thead > tr,\n",
       ".dataframe > tbody > tr {\n",
       "  text-align: right;\n",
       "  white-space: pre-wrap;\n",
       "}\n",
       "</style>\n",
       "<small>shape: (2, 4)</small><table border=\"1\" class=\"dataframe\"><thead><tr><th>decade</th><th>name</th><th>avg_weight</th><th>avg_height</th></tr><tr><td>i32</td><td>list[str]</td><td>f64</td><td>f64</td></tr></thead><tbody><tr><td>1990</td><td>[&quot;Alice&quot;]</td><td>57.9</td><td>1.56</td></tr><tr><td>1980</td><td>[&quot;Ben&quot;, &quot;Chloe&quot;, &quot;Daniel&quot;]</td><td>69.73</td><td>1.72</td></tr></tbody></table></div>"
      ],
      "text/plain": [
       "shape: (2, 4)\n",
       "┌────────┬────────────────────────────┬────────────┬────────────┐\n",
       "│ decade ┆ name                       ┆ avg_weight ┆ avg_height │\n",
       "│ ---    ┆ ---                        ┆ ---        ┆ ---        │\n",
       "│ i32    ┆ list[str]                  ┆ f64        ┆ f64        │\n",
       "╞════════╪════════════════════════════╪════════════╪════════════╡\n",
       "│ 1990   ┆ [\"Alice\"]                  ┆ 57.9       ┆ 1.56       │\n",
       "│ 1980   ┆ [\"Ben\", \"Chloe\", \"Daniel\"] ┆ 69.73      ┆ 1.72       │\n",
       "└────────┴────────────────────────────┴────────────┴────────────┘"
      ]
     },
     "execution_count": 33,
     "metadata": {},
     "output_type": "execute_result"
    }
   ],
   "source": [
    "%%time\n",
    "(\n",
    "    df.with_columns(\n",
    "        (pl.col(\"birthdate\").dt.year() // 10 * 10).alias(\"decade\"),\n",
    "        pl.col(\"name\").str.split(by=\" \").list.first(),\n",
    "    )\n",
    "    .select(\n",
    "        pl.all().exclude(\"birthdate\"),\n",
    "    )\n",
    "    .group_by(\n",
    "        pl.col(\"decade\"),\n",
    "        maintain_order=True,\n",
    "    )\n",
    "    .agg(\n",
    "        pl.col(\"name\"),\n",
    "        pl.col(\"weight\", \"height\").mean().round(2).name.prefix(\"avg_\"),\n",
    "    )\n",
    ")"
   ]
  },
  {
   "cell_type": "markdown",
   "id": "8dd6bb27-4386-444e-a600-45af307f8d99",
   "metadata": {},
   "source": [
    "# Joining dataframes"
   ]
  },
  {
   "cell_type": "code",
   "execution_count": 38,
   "id": "664265e8-247a-4df0-b806-e0957a7b7536",
   "metadata": {},
   "outputs": [
    {
     "data": {
      "text/html": [
       "<div><style>\n",
       ".dataframe > thead > tr,\n",
       ".dataframe > tbody > tr {\n",
       "  text-align: right;\n",
       "  white-space: pre-wrap;\n",
       "}\n",
       "</style>\n",
       "<small>shape: (4, 4)</small><table border=\"1\" class=\"dataframe\"><thead><tr><th>name</th><th>birthdate</th><th>weight</th><th>height</th></tr><tr><td>str</td><td>date</td><td>f64</td><td>f64</td></tr></thead><tbody><tr><td>&quot;Alice Archer&quot;</td><td>1997-01-10</td><td>57.9</td><td>1.56</td></tr><tr><td>&quot;Ben Brown&quot;</td><td>1985-02-15</td><td>72.5</td><td>1.77</td></tr><tr><td>&quot;Chloe Cooper&quot;</td><td>1983-03-22</td><td>53.6</td><td>1.65</td></tr><tr><td>&quot;Daniel Donovan&quot;</td><td>1981-04-30</td><td>83.1</td><td>1.75</td></tr></tbody></table></div>"
      ],
      "text/plain": [
       "shape: (4, 4)\n",
       "┌────────────────┬────────────┬────────┬────────┐\n",
       "│ name           ┆ birthdate  ┆ weight ┆ height │\n",
       "│ ---            ┆ ---        ┆ ---    ┆ ---    │\n",
       "│ str            ┆ date       ┆ f64    ┆ f64    │\n",
       "╞════════════════╪════════════╪════════╪════════╡\n",
       "│ Alice Archer   ┆ 1997-01-10 ┆ 57.9   ┆ 1.56   │\n",
       "│ Ben Brown      ┆ 1985-02-15 ┆ 72.5   ┆ 1.77   │\n",
       "│ Chloe Cooper   ┆ 1983-03-22 ┆ 53.6   ┆ 1.65   │\n",
       "│ Daniel Donovan ┆ 1981-04-30 ┆ 83.1   ┆ 1.75   │\n",
       "└────────────────┴────────────┴────────┴────────┘"
      ]
     },
     "execution_count": 38,
     "metadata": {},
     "output_type": "execute_result"
    }
   ],
   "source": [
    "df"
   ]
  },
  {
   "cell_type": "code",
   "execution_count": 35,
   "id": "48b6c9a1-770a-4087-ae93-ca9615a7e25b",
   "metadata": {},
   "outputs": [
    {
     "data": {
      "text/html": [
       "<div><style>\n",
       ".dataframe > thead > tr,\n",
       ".dataframe > tbody > tr {\n",
       "  text-align: right;\n",
       "  white-space: pre-wrap;\n",
       "}\n",
       "</style>\n",
       "<small>shape: (4, 6)</small><table border=\"1\" class=\"dataframe\"><thead><tr><th>name</th><th>birthdate</th><th>weight</th><th>height</th><th>parent</th><th>siblings</th></tr><tr><td>str</td><td>date</td><td>f64</td><td>f64</td><td>bool</td><td>i64</td></tr></thead><tbody><tr><td>&quot;Alice Archer&quot;</td><td>1997-01-10</td><td>57.9</td><td>1.56</td><td>false</td><td>3</td></tr><tr><td>&quot;Ben Brown&quot;</td><td>1985-02-15</td><td>72.5</td><td>1.77</td><td>true</td><td>1</td></tr><tr><td>&quot;Chloe Cooper&quot;</td><td>1983-03-22</td><td>53.6</td><td>1.65</td><td>false</td><td>4</td></tr><tr><td>&quot;Daniel Donovan&quot;</td><td>1981-04-30</td><td>83.1</td><td>1.75</td><td>false</td><td>2</td></tr></tbody></table></div>"
      ],
      "text/plain": [
       "shape: (4, 6)\n",
       "┌────────────────┬────────────┬────────┬────────┬────────┬──────────┐\n",
       "│ name           ┆ birthdate  ┆ weight ┆ height ┆ parent ┆ siblings │\n",
       "│ ---            ┆ ---        ┆ ---    ┆ ---    ┆ ---    ┆ ---      │\n",
       "│ str            ┆ date       ┆ f64    ┆ f64    ┆ bool   ┆ i64      │\n",
       "╞════════════════╪════════════╪════════╪════════╪════════╪══════════╡\n",
       "│ Alice Archer   ┆ 1997-01-10 ┆ 57.9   ┆ 1.56   ┆ false  ┆ 3        │\n",
       "│ Ben Brown      ┆ 1985-02-15 ┆ 72.5   ┆ 1.77   ┆ true   ┆ 1        │\n",
       "│ Chloe Cooper   ┆ 1983-03-22 ┆ 53.6   ┆ 1.65   ┆ false  ┆ 4        │\n",
       "│ Daniel Donovan ┆ 1981-04-30 ┆ 83.1   ┆ 1.75   ┆ false  ┆ 2        │\n",
       "└────────────────┴────────────┴────────┴────────┴────────┴──────────┘"
      ]
     },
     "execution_count": 35,
     "metadata": {},
     "output_type": "execute_result"
    }
   ],
   "source": [
    "df2 = pl.DataFrame(\n",
    "    {\n",
    "        \"name\": [\"Ben Brown\", \"Daniel Donovan\", \"Alice Archer\", \"Chloe Cooper\"],\n",
    "        \"parent\": [True, False, False, False],\n",
    "        \"siblings\": [1, 2, 3, 4],\n",
    "    }\n",
    ")\n",
    "\n",
    "df.join(df2, on=\"name\", how=\"left\")"
   ]
  },
  {
   "cell_type": "markdown",
   "id": "8cc6205b-07f1-4462-93b4-756fa1f35da8",
   "metadata": {},
   "source": [
    "# Concatenating dataframes"
   ]
  },
  {
   "cell_type": "code",
   "execution_count": 37,
   "id": "b28cf43b-9dfe-4618-88c8-fd2675c9531f",
   "metadata": {},
   "outputs": [
    {
     "data": {
      "text/html": [
       "<div><style>\n",
       ".dataframe > thead > tr,\n",
       ".dataframe > tbody > tr {\n",
       "  text-align: right;\n",
       "  white-space: pre-wrap;\n",
       "}\n",
       "</style>\n",
       "<small>shape: (8, 4)</small><table border=\"1\" class=\"dataframe\"><thead><tr><th>name</th><th>birthdate</th><th>weight</th><th>height</th></tr><tr><td>str</td><td>date</td><td>f64</td><td>f64</td></tr></thead><tbody><tr><td>&quot;Alice Archer&quot;</td><td>1997-01-10</td><td>57.9</td><td>1.56</td></tr><tr><td>&quot;Ben Brown&quot;</td><td>1985-02-15</td><td>72.5</td><td>1.77</td></tr><tr><td>&quot;Chloe Cooper&quot;</td><td>1983-03-22</td><td>53.6</td><td>1.65</td></tr><tr><td>&quot;Daniel Donovan&quot;</td><td>1981-04-30</td><td>83.1</td><td>1.75</td></tr><tr><td>&quot;Ethan Edwards&quot;</td><td>1977-05-10</td><td>67.9</td><td>1.76</td></tr><tr><td>&quot;Fiona Foster&quot;</td><td>1975-06-23</td><td>72.5</td><td>1.6</td></tr><tr><td>&quot;Grace Gibson&quot;</td><td>1973-07-22</td><td>57.6</td><td>1.66</td></tr><tr><td>&quot;Henry Harris&quot;</td><td>1971-08-03</td><td>93.1</td><td>1.8</td></tr></tbody></table></div>"
      ],
      "text/plain": [
       "shape: (8, 4)\n",
       "┌────────────────┬────────────┬────────┬────────┐\n",
       "│ name           ┆ birthdate  ┆ weight ┆ height │\n",
       "│ ---            ┆ ---        ┆ ---    ┆ ---    │\n",
       "│ str            ┆ date       ┆ f64    ┆ f64    │\n",
       "╞════════════════╪════════════╪════════╪════════╡\n",
       "│ Alice Archer   ┆ 1997-01-10 ┆ 57.9   ┆ 1.56   │\n",
       "│ Ben Brown      ┆ 1985-02-15 ┆ 72.5   ┆ 1.77   │\n",
       "│ Chloe Cooper   ┆ 1983-03-22 ┆ 53.6   ┆ 1.65   │\n",
       "│ Daniel Donovan ┆ 1981-04-30 ┆ 83.1   ┆ 1.75   │\n",
       "│ Ethan Edwards  ┆ 1977-05-10 ┆ 67.9   ┆ 1.76   │\n",
       "│ Fiona Foster   ┆ 1975-06-23 ┆ 72.5   ┆ 1.6    │\n",
       "│ Grace Gibson   ┆ 1973-07-22 ┆ 57.6   ┆ 1.66   │\n",
       "│ Henry Harris   ┆ 1971-08-03 ┆ 93.1   ┆ 1.8    │\n",
       "└────────────────┴────────────┴────────┴────────┘"
      ]
     },
     "execution_count": 37,
     "metadata": {},
     "output_type": "execute_result"
    }
   ],
   "source": [
    "df3 = pl.DataFrame(\n",
    "    {\n",
    "        \"name\": [\"Ethan Edwards\", \"Fiona Foster\", \"Grace Gibson\", \"Henry Harris\"],\n",
    "        \"birthdate\": [\n",
    "            dt.date(1977, 5, 10),\n",
    "            dt.date(1975, 6, 23),\n",
    "            dt.date(1973, 7, 22),\n",
    "            dt.date(1971, 8, 3),\n",
    "        ],\n",
    "        \"weight\": [67.9, 72.5, 57.6, 93.1],  # (kg)\n",
    "        \"height\": [1.76, 1.6, 1.66, 1.8],  # (m)\n",
    "    }\n",
    ")\n",
    "\n",
    "pl.concat([df, df3], how=\"vertical\")"
   ]
  },
  {
   "cell_type": "code",
   "execution_count": null,
   "id": "2c875870-4afb-4b49-a1c2-847183f50be5",
   "metadata": {},
   "outputs": [],
   "source": []
  }
 ],
 "metadata": {
  "kernelspec": {
   "display_name": "Python 3 (ipykernel)",
   "language": "python",
   "name": "python3"
  },
  "language_info": {
   "codemirror_mode": {
    "name": "ipython",
    "version": 3
   },
   "file_extension": ".py",
   "mimetype": "text/x-python",
   "name": "python",
   "nbconvert_exporter": "python",
   "pygments_lexer": "ipython3",
   "version": "3.12.11"
  }
 },
 "nbformat": 4,
 "nbformat_minor": 5
}
