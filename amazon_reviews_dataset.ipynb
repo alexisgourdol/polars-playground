{
 "cells": [
  {
   "cell_type": "markdown",
   "id": "7a03850d",
   "metadata": {},
   "source": [
    "# Amazon Reviews Dataset"
   ]
  },
  {
   "cell_type": "markdown",
   "id": "de804a79",
   "metadata": {},
   "source": [
    "## Imports"
   ]
  },
  {
   "cell_type": "code",
   "execution_count": null,
   "id": "a3dc0d6e-8eee-4719-bf99-bc406beb8a62",
   "metadata": {},
   "outputs": [],
   "source": [
    "import os\n",
    "import pandas as pd\n",
    "import polars as pl\n",
    "import polars.selectors as cs\n",
    "import seaborn as sns\n",
    "import matplotlib.pyplot as plt\n",
    "import kagglehub\n",
    "from pl_utils import pl_info\n",
    "from pl_utils import dtype_info"
   ]
  },
  {
   "cell_type": "markdown",
   "id": "d815c73d",
   "metadata": {},
   "source": [
    "## Load dataset"
   ]
  },
  {
   "cell_type": "code",
   "execution_count": 2,
   "id": "0eadc25a",
   "metadata": {},
   "outputs": [
    {
     "name": "stdout",
     "output_type": "stream",
     "text": [
      "Downloading from https://www.kaggle.com/api/v1/datasets/download/dongrelaxman/amazon-reviews-dataset?dataset_version_number=1...\n"
     ]
    },
    {
     "name": "stderr",
     "output_type": "stream",
     "text": [
      "100%|██████████| 4.59M/4.59M [00:02<00:00, 2.30MB/s]"
     ]
    },
    {
     "name": "stdout",
     "output_type": "stream",
     "text": [
      "Extracting files...\n",
      "Path to dataset files: /root/.cache/kagglehub/datasets/dongrelaxman/amazon-reviews-dataset/versions/1\n"
     ]
    },
    {
     "name": "stderr",
     "output_type": "stream",
     "text": [
      "\n"
     ]
    }
   ],
   "source": [
    "if not os.path.exists('/root/.cache/kagglehub/datasets/dongrelaxman/amazon-reviews-dataset/versions/1/Amazon_Reviews.csv'):\n",
    "# Download latest version\n",
    "    dataset_folder = kagglehub.dataset_download(\"dongrelaxman/amazon-reviews-dataset\")\n",
    "    print(\"Path to dataset files:\", dataset_folder)\n",
    "    if \"Amazon_Reviews.csv\" in os.listdir(dataset_folder):\n",
    "        dataset_path = dataset_folder + \"/Amazon_Reviews.csv\"\n",
    "else:\n",
    "    dataset_path = '/root/.cache/kagglehub/datasets/dongrelaxman/amazon-reviews-dataset/versions/1/Amazon_Reviews.csv'"
   ]
  },
  {
   "cell_type": "code",
   "execution_count": 3,
   "id": "f21e17bf",
   "metadata": {},
   "outputs": [],
   "source": [
    "df = pl.read_csv(dataset_path)"
   ]
  },
  {
   "cell_type": "markdown",
   "id": "843d4120",
   "metadata": {},
   "source": [
    "## EDA"
   ]
  },
  {
   "cell_type": "code",
   "execution_count": 4,
   "id": "1b58ee11",
   "metadata": {},
   "outputs": [
    {
     "data": {
      "text/html": [
       "<div><style>\n",
       ".dataframe > thead > tr,\n",
       ".dataframe > tbody > tr {\n",
       "  text-align: right;\n",
       "  white-space: pre-wrap;\n",
       "}\n",
       "</style>\n",
       "<small>shape: (5, 9)</small><table border=\"1\" class=\"dataframe\"><thead><tr><th>Reviewer Name</th><th>Profile Link</th><th>Country</th><th>Review Count</th><th>Review Date</th><th>Rating</th><th>Review Title</th><th>Review Text</th><th>Date of Experience</th></tr><tr><td>str</td><td>str</td><td>str</td><td>str</td><td>str</td><td>str</td><td>str</td><td>str</td><td>str</td></tr></thead><tbody><tr><td>&quot;John&quot;</td><td>&quot;/users/65e6d06b9504e00012aab32…</td><td>&quot;GB&quot;</td><td>&quot;3 reviews&quot;</td><td>&quot;2024-04-16T17:06:48.000Z&quot;</td><td>&quot;Rated 1 out of 5 stars&quot;</td><td>&quot;The customer service is appall…</td><td>&quot;The customer service is appall…</td><td>&quot;April 15, 2024&quot;</td></tr><tr><td>&quot;Jennifer Szeto&quot;</td><td>&quot;/users/604351e3e664b70019e4b07…</td><td>&quot;AU&quot;</td><td>&quot;1 review&quot;</td><td>&quot;2021-03-06T09:57:01.000Z&quot;</td><td>&quot;Rated 1 out of 5 stars&quot;</td><td>&quot;Setup New account is impossibl…</td><td>&quot;Some might said scams from sel…</td><td>&quot;March 06, 2021&quot;</td></tr><tr><td>&quot;Nicole Monet&quot;</td><td>&quot;/users/5eab12730c79cd11d9c8ac4…</td><td>&quot;US&quot;</td><td>&quot;5 reviews&quot;</td><td>&quot;2020-04-30T18:03:45.000Z&quot;</td><td>&quot;Rated 5 out of 5 stars&quot;</td><td>&quot;Great Site!&quot;</td><td>&quot;I highly recommend amazon to p…</td><td>&quot;April 30, 2020&quot;</td></tr><tr><td>&quot;S R&quot;</td><td>&quot;/users/5f4fd5b9feddbc49a8e2211…</td><td>&quot;US&quot;</td><td>&quot;1 review&quot;</td><td>&quot;2020-09-02T17:26:23.000Z&quot;</td><td>&quot;Rated 1 out of 5 stars&quot;</td><td>&quot;Amazon makes thousands of frau…</td><td>&quot;Amazon makes thousands of frau…</td><td>&quot;September 02, 2020&quot;</td></tr><tr><td>&quot;Steve Doubleday&quot;</td><td>&quot;/users/5b19674c4de5666d3444b46…</td><td>&quot;GB&quot;</td><td>&quot;80 reviews&quot;</td><td>&quot;2023-10-30T18:48:16.000Z&quot;</td><td>&quot;Rated 1 out of 5 stars&quot;</td><td>&quot;Amazon get worse and worse and…</td><td>&quot;Amazon get worse and worse and…</td><td>&quot;October 30, 2023&quot;</td></tr></tbody></table></div>"
      ],
      "text/plain": [
       "shape: (5, 9)\n",
       "┌────────────┬───────────┬─────────┬───────────┬───┬───────────┬───────────┬───────────┬───────────┐\n",
       "│ Reviewer   ┆ Profile   ┆ Country ┆ Review    ┆ … ┆ Rating    ┆ Review    ┆ Review    ┆ Date of   │\n",
       "│ Name       ┆ Link      ┆ ---     ┆ Count     ┆   ┆ ---       ┆ Title     ┆ Text      ┆ Experienc │\n",
       "│ ---        ┆ ---       ┆ str     ┆ ---       ┆   ┆ str       ┆ ---       ┆ ---       ┆ e         │\n",
       "│ str        ┆ str       ┆         ┆ str       ┆   ┆           ┆ str       ┆ str       ┆ ---       │\n",
       "│            ┆           ┆         ┆           ┆   ┆           ┆           ┆           ┆ str       │\n",
       "╞════════════╪═══════════╪═════════╪═══════════╪═══╪═══════════╪═══════════╪═══════════╪═══════════╡\n",
       "│ John       ┆ /users/65 ┆ GB      ┆ 3 reviews ┆ … ┆ Rated 1   ┆ The       ┆ The       ┆ April 15, │\n",
       "│            ┆ e6d06b950 ┆         ┆           ┆   ┆ out of 5  ┆ customer  ┆ customer  ┆ 2024      │\n",
       "│            ┆ 4e00012aa ┆         ┆           ┆   ┆ stars     ┆ service   ┆ service   ┆           │\n",
       "│            ┆ b32…      ┆         ┆           ┆   ┆           ┆ is        ┆ is        ┆           │\n",
       "│            ┆           ┆         ┆           ┆   ┆           ┆ appall…   ┆ appall…   ┆           │\n",
       "│ Jennifer   ┆ /users/60 ┆ AU      ┆ 1 review  ┆ … ┆ Rated 1   ┆ Setup New ┆ Some      ┆ March 06, │\n",
       "│ Szeto      ┆ 4351e3e66 ┆         ┆           ┆   ┆ out of 5  ┆ account   ┆ might     ┆ 2021      │\n",
       "│            ┆ 4b70019e4 ┆         ┆           ┆   ┆ stars     ┆ is imposs ┆ said      ┆           │\n",
       "│            ┆ b07…      ┆         ┆           ┆   ┆           ┆ ibl…      ┆ scams     ┆           │\n",
       "│            ┆           ┆         ┆           ┆   ┆           ┆           ┆ from sel… ┆           │\n",
       "│ Nicole     ┆ /users/5e ┆ US      ┆ 5 reviews ┆ … ┆ Rated 5   ┆ Great     ┆ I highly  ┆ April 30, │\n",
       "│ Monet      ┆ ab12730c7 ┆         ┆           ┆   ┆ out of 5  ┆ Site!     ┆ recommend ┆ 2020      │\n",
       "│            ┆ 9cd11d9c8 ┆         ┆           ┆   ┆ stars     ┆           ┆ amazon to ┆           │\n",
       "│            ┆ ac4…      ┆         ┆           ┆   ┆           ┆           ┆ p…        ┆           │\n",
       "│ S R        ┆ /users/5f ┆ US      ┆ 1 review  ┆ … ┆ Rated 1   ┆ Amazon    ┆ Amazon    ┆ September │\n",
       "│            ┆ 4fd5b9fed ┆         ┆           ┆   ┆ out of 5  ┆ makes     ┆ makes     ┆ 02, 2020  │\n",
       "│            ┆ dbc49a8e2 ┆         ┆           ┆   ┆ stars     ┆ thousands ┆ thousands ┆           │\n",
       "│            ┆ 211…      ┆         ┆           ┆   ┆           ┆ of frau…  ┆ of frau…  ┆           │\n",
       "│ Steve      ┆ /users/5b ┆ GB      ┆ 80        ┆ … ┆ Rated 1   ┆ Amazon    ┆ Amazon    ┆ October   │\n",
       "│ Doubleday  ┆ 19674c4de ┆         ┆ reviews   ┆   ┆ out of 5  ┆ get worse ┆ get worse ┆ 30, 2023  │\n",
       "│            ┆ 5666d3444 ┆         ┆           ┆   ┆ stars     ┆ and worse ┆ and worse ┆           │\n",
       "│            ┆ b46…      ┆         ┆           ┆   ┆           ┆ and…      ┆ and…      ┆           │\n",
       "└────────────┴───────────┴─────────┴───────────┴───┴───────────┴───────────┴───────────┴───────────┘"
      ]
     },
     "execution_count": 4,
     "metadata": {},
     "output_type": "execute_result"
    }
   ],
   "source": [
    "df.sample(5)"
   ]
  },
  {
   "cell_type": "code",
   "execution_count": 5,
   "id": "71201aa7",
   "metadata": {},
   "outputs": [
    {
     "data": {
      "text/html": [
       "<div><style>\n",
       ".dataframe > thead > tr,\n",
       ".dataframe > tbody > tr {\n",
       "  text-align: right;\n",
       "  white-space: pre-wrap;\n",
       "}\n",
       "</style>\n",
       "<small>shape: (9, 10)</small><table border=\"1\" class=\"dataframe\"><thead><tr><th>statistic</th><th>Reviewer Name</th><th>Profile Link</th><th>Country</th><th>Review Count</th><th>Review Date</th><th>Rating</th><th>Review Title</th><th>Review Text</th><th>Date of Experience</th></tr><tr><td>str</td><td>str</td><td>str</td><td>str</td><td>str</td><td>str</td><td>str</td><td>str</td><td>str</td><td>str</td></tr></thead><tbody><tr><td>&quot;count&quot;</td><td>&quot;21055&quot;</td><td>&quot;21055&quot;</td><td>&quot;21055&quot;</td><td>&quot;21055&quot;</td><td>&quot;21055&quot;</td><td>&quot;21055&quot;</td><td>&quot;21055&quot;</td><td>&quot;21055&quot;</td><td>&quot;21055&quot;</td></tr><tr><td>&quot;null_count&quot;</td><td>&quot;0&quot;</td><td>&quot;0&quot;</td><td>&quot;0&quot;</td><td>&quot;0&quot;</td><td>&quot;0&quot;</td><td>&quot;0&quot;</td><td>&quot;0&quot;</td><td>&quot;0&quot;</td><td>&quot;0&quot;</td></tr><tr><td>&quot;mean&quot;</td><td>null</td><td>null</td><td>null</td><td>null</td><td>null</td><td>null</td><td>null</td><td>null</td><td>null</td></tr><tr><td>&quot;std&quot;</td><td>null</td><td>null</td><td>null</td><td>null</td><td>null</td><td>null</td><td>null</td><td>null</td><td>null</td></tr><tr><td>&quot;min&quot;</td><td>&quot;&quot;Kestutis Lazauskas&quot;&quot;</td><td>&quot;/users/46d1ed15000064000100005…</td><td>&quot;AD&quot;</td><td>&quot;1 review&quot;</td><td>&quot;2007-08-27T17:25:01.000Z&quot;</td><td>&quot;Rated 1 out of 5 stars&quot;</td><td>&quot;\tTerrible experience today &quot;</td><td>&quot;&nbsp;&nbsp;&nbsp;Amazon customer service has…</td><td>&quot;April 01, 2012&quot;</td></tr><tr><td>&quot;25%&quot;</td><td>null</td><td>null</td><td>null</td><td>null</td><td>null</td><td>null</td><td>null</td><td>null</td><td>null</td></tr><tr><td>&quot;50%&quot;</td><td>null</td><td>null</td><td>null</td><td>null</td><td>null</td><td>null</td><td>null</td><td>null</td><td>null</td></tr><tr><td>&quot;75%&quot;</td><td>null</td><td>null</td><td>null</td><td>null</td><td>null</td><td>null</td><td>null</td><td>null</td><td>null</td></tr><tr><td>&quot;max&quot;</td><td>&quot;👸🏼&quot;</td><td>&quot;/users/66e96137389eefc81dbb22a…</td><td>&quot;ZM&quot;</td><td>&quot;99 reviews&quot;</td><td>&quot;2024-09-17T13:19:27.000Z&quot;</td><td>&quot;Rated 5 out of 5 stars&quot;</td><td>&quot;🤢🤢Burk&quot;</td><td>&quot;🤢🤢They all are just focus on m…</td><td>&quot;September 30, 2023&quot;</td></tr></tbody></table></div>"
      ],
      "text/plain": [
       "shape: (9, 10)\n",
       "┌────────────┬───────────┬───────────┬─────────┬───┬───────────┬───────────┬───────────┬───────────┐\n",
       "│ statistic  ┆ Reviewer  ┆ Profile   ┆ Country ┆ … ┆ Rating    ┆ Review    ┆ Review    ┆ Date of   │\n",
       "│ ---        ┆ Name      ┆ Link      ┆ ---     ┆   ┆ ---       ┆ Title     ┆ Text      ┆ Experienc │\n",
       "│ str        ┆ ---       ┆ ---       ┆ str     ┆   ┆ str       ┆ ---       ┆ ---       ┆ e         │\n",
       "│            ┆ str       ┆ str       ┆         ┆   ┆           ┆ str       ┆ str       ┆ ---       │\n",
       "│            ┆           ┆           ┆         ┆   ┆           ┆           ┆           ┆ str       │\n",
       "╞════════════╪═══════════╪═══════════╪═════════╪═══╪═══════════╪═══════════╪═══════════╪═══════════╡\n",
       "│ count      ┆ 21055     ┆ 21055     ┆ 21055   ┆ … ┆ 21055     ┆ 21055     ┆ 21055     ┆ 21055     │\n",
       "│ null_count ┆ 0         ┆ 0         ┆ 0       ┆ … ┆ 0         ┆ 0         ┆ 0         ┆ 0         │\n",
       "│ mean       ┆ null      ┆ null      ┆ null    ┆ … ┆ null      ┆ null      ┆ null      ┆ null      │\n",
       "│ std        ┆ null      ┆ null      ┆ null    ┆ … ┆ null      ┆ null      ┆ null      ┆ null      │\n",
       "│ min        ┆ \"Kestutis ┆ /users/46 ┆ AD      ┆ … ┆ Rated 1   ┆ \tTerrible ┆ Amazon    ┆ April 01, │\n",
       "│            ┆ Lazauskas ┆ d1ed15000 ┆         ┆   ┆ out of 5  ┆ experienc ┆ customer  ┆ 2012      │\n",
       "│            ┆ \"         ┆ 064000100 ┆         ┆   ┆ stars     ┆ e today   ┆ service   ┆           │\n",
       "│            ┆           ┆ 005…      ┆         ┆   ┆           ┆           ┆ has…      ┆           │\n",
       "│ 25%        ┆ null      ┆ null      ┆ null    ┆ … ┆ null      ┆ null      ┆ null      ┆ null      │\n",
       "│ 50%        ┆ null      ┆ null      ┆ null    ┆ … ┆ null      ┆ null      ┆ null      ┆ null      │\n",
       "│ 75%        ┆ null      ┆ null      ┆ null    ┆ … ┆ null      ┆ null      ┆ null      ┆ null      │\n",
       "│ max        ┆ 👸🏼        ┆ /users/66 ┆ ZM      ┆ … ┆ Rated 5   ┆ 🤢🤢Burk  ┆ 🤢🤢They  ┆ September │\n",
       "│            ┆           ┆ e96137389 ┆         ┆   ┆ out of 5  ┆           ┆ all are   ┆ 30, 2023  │\n",
       "│            ┆           ┆ eefc81dbb ┆         ┆   ┆ stars     ┆           ┆ just      ┆           │\n",
       "│            ┆           ┆ 22a…      ┆         ┆   ┆           ┆           ┆ focus on  ┆           │\n",
       "│            ┆           ┆           ┆         ┆   ┆           ┆           ┆ m…        ┆           │\n",
       "└────────────┴───────────┴───────────┴─────────┴───┴───────────┴───────────┴───────────┴───────────┘"
      ]
     },
     "execution_count": 5,
     "metadata": {},
     "output_type": "execute_result"
    }
   ],
   "source": [
    "df.describe()"
   ]
  },
  {
   "cell_type": "code",
   "execution_count": 6,
   "id": "4634ab6d",
   "metadata": {},
   "outputs": [
    {
     "data": {
      "text/plain": [
       "12820994"
      ]
     },
     "execution_count": 6,
     "metadata": {},
     "output_type": "execute_result"
    }
   ],
   "source": [
    "raw_size = df.estimated_size()\n",
    "raw_size"
   ]
  },
  {
   "cell_type": "code",
   "execution_count": 7,
   "id": "0d41fdd4",
   "metadata": {},
   "outputs": [
    {
     "name": "stdout",
     "output_type": "stream",
     "text": [
      "sys.version='3.12.11 (main, Sep  9 2025, 06:00:18) [GCC 14.2.0]'\n",
      "pl.__version__='1.33.1'\n",
      "_______________________\n",
      "Polars DataFrame info — shape: (21055, 9)\n",
      "Estimated memory usage: 12.2MB\n",
      "\n",
      "Column               Dtype         Non-Null   Nulls  Unique\n",
      "-----------------------------------------------------------\n",
      "Reviewer Name        String           21055       0   18375\n",
      "Profile Link         String           21055       0   21055\n",
      "Country              String           21055       0     149\n",
      "Review Count         String           21055       0     177\n",
      "Review Date          String           21055       0   21054\n",
      "Rating               String           21055       0       5\n",
      "Review Title         String           21055       0   19277\n",
      "Review Text          String           21055       0   20407\n",
      "Date of Experience   String           21055       0    3660\n",
      "\n",
      "dtypes:\n",
      "  String: 9\n"
     ]
    }
   ],
   "source": [
    "pl_info(df)"
   ]
  },
  {
   "cell_type": "markdown",
   "id": "862eb8aa",
   "metadata": {},
   "source": [
    "## Processing"
   ]
  },
  {
   "cell_type": "markdown",
   "id": "c8c0679d",
   "metadata": {},
   "source": [
    "- snake case column names\n",
    "    - using pipe\n",
    "    - alt : use https://pyjanitor-devs.github.io/pyjanitor/api/polars/ import polars as pl ; import janitor.polars; df.clean_names(remove_special=True)\n",
    "\n",
    "- clean Profile Link"
   ]
  },
  {
   "cell_type": "code",
   "execution_count": 8,
   "id": "5e035939",
   "metadata": {},
   "outputs": [
    {
     "name": "stdout",
     "output_type": "stream",
     "text": [
      "shape: (3, 1)\n",
      "┌─────────────────────────────────┐\n",
      "│ Profile Link                    │\n",
      "│ ---                             │\n",
      "│ str                             │\n",
      "╞═════════════════════════════════╡\n",
      "│ /users/5c1315768ff7d4dce6323587 │\n",
      "│ /users/6318e4098563c1001242e5a1 │\n",
      "│ /users/5efa5246c57978d5b2cf0a89 │\n",
      "└─────────────────────────────────┘\n"
     ]
    }
   ],
   "source": [
    "with pl.Config(fmt_str_lengths=40):\n",
    "    print(df.select(pl.col('Profile Link')).sample(3))"
   ]
  },
  {
   "cell_type": "markdown",
   "id": "78ebfb91",
   "metadata": {},
   "source": [
    "\n",
    "- country : not worth converting to Categorical because (1) the dataset is small and (2) there are no joins planned on this column. Read more in the docs : https://docs.pola.rs/user-guide/expressions/categorical-data-and-enums/\n",
    "- review  count : extract number as `pl.Int16` (regexp or splice | edit : there is no `str.splice`in polars so use `str.extract` with a regexp) \n",
    "- review date : cast to `pl.Datetime(\"us\", \"UTC\")`\n",
    "- rating : cast to `pl.UInt8`\n",
    "- date of experience as `pl.Datetime`\n"
   ]
  },
  {
   "cell_type": "code",
   "execution_count": 9,
   "id": "3900c88f",
   "metadata": {},
   "outputs": [
    {
     "name": "stdout",
     "output_type": "stream",
     "text": [
      "| dtype  | min                        | max                        |\n",
      "|--------|----------------------------|----------------------------|\n",
      "| int8   | -128                       | 127                        |\n",
      "| int16  | -32_768                    | 32_767                     |\n",
      "| int32  | -2_147_483_648             | 2_147_483_647              |\n",
      "| int64  | -9_223_372_036_854_775_808 | 9_223_372_036_854_775_807  |\n",
      "| uint8  | 0                          | 255                        |\n",
      "| uint16 | 0                          | 65_535                     |\n",
      "| uint32 | 0                          | 4_294_967_295              |\n",
      "| uint64 | 0                          | 18_446_744_073_709_551_615 |\n"
     ]
    }
   ],
   "source": [
    "dtype_info() # check to cast to smallest data type"
   ]
  },
  {
   "cell_type": "code",
   "execution_count": 10,
   "id": "4904190a",
   "metadata": {},
   "outputs": [
    {
     "data": {
      "text/html": [
       "<div><style>\n",
       ".dataframe > thead > tr,\n",
       ".dataframe > tbody > tr {\n",
       "  text-align: right;\n",
       "  white-space: pre-wrap;\n",
       "}\n",
       "</style>\n",
       "<small>shape: (21_055, 9)</small><table border=\"1\" class=\"dataframe\"><thead><tr><th>reviewer_name</th><th>user_id</th><th>country</th><th>review_count</th><th>review_datetime_utc</th><th>rating</th><th>review_title</th><th>review_text</th><th>date_of_experience</th></tr><tr><td>str</td><td>str</td><td>str</td><td>i16</td><td>datetime[μs, UTC]</td><td>u8</td><td>str</td><td>str</td><td>date</td></tr></thead><tbody><tr><td>&quot;Eugene ath&quot;</td><td>&quot;66e8185ff1598352d6b3701a&quot;</td><td>&quot;US&quot;</td><td>1</td><td>2024-09-16 13:44:26 UTC</td><td>1</td><td>&quot;A Store That Doesn&#x27;t Want to S…</td><td>&quot;I registered on the website, t…</td><td>2024-09-16</td></tr><tr><td>&quot;Daniel ohalloran&quot;</td><td>&quot;5d75e460200c1f6a6373648c&quot;</td><td>&quot;GB&quot;</td><td>9</td><td>2024-09-16 18:26:46 UTC</td><td>1</td><td>&quot;Had multiple orders one turned…</td><td>&quot;Had multiple orders one turned…</td><td>2024-09-16</td></tr><tr><td>&quot;p fisher&quot;</td><td>&quot;546cfcf1000064000197b88f&quot;</td><td>&quot;GB&quot;</td><td>90</td><td>2024-09-16 21:47:39 UTC</td><td>1</td><td>&quot;I informed these reprobates&quot;</td><td>&quot;I informed these reprobates th…</td><td>2024-09-16</td></tr><tr><td>&quot;Greg Dunn&quot;</td><td>&quot;62c35cdbacc0ea0012ccaffa&quot;</td><td>&quot;AU&quot;</td><td>5</td><td>2024-09-17 07:15:49 UTC</td><td>1</td><td>&quot;Advertise one price then incre…</td><td>&quot;I have bought from Amazon befo…</td><td>2024-09-17</td></tr><tr><td>&quot;Sheila Hannah&quot;</td><td>&quot;5ddbe429478d88251550610e&quot;</td><td>&quot;GB&quot;</td><td>8</td><td>2024-09-16 18:37:17 UTC</td><td>1</td><td>&quot;If I could give a lower rate I…</td><td>&quot;If I could give a lower rate I…</td><td>2024-09-16</td></tr><tr><td>&hellip;</td><td>&hellip;</td><td>&hellip;</td><td>&hellip;</td><td>&hellip;</td><td>&hellip;</td><td>&hellip;</td><td>&hellip;</td><td>&hellip;</td></tr><tr><td>&quot;Anders T&quot;</td><td>&quot;47bd4ffe0000640001001044&quot;</td><td>&quot;DK&quot;</td><td>1</td><td>2009-03-22 13:14:12 UTC</td><td>5</td><td>&quot;Fast!!&quot;</td><td>&quot;I have had perfect order fulfi…</td><td>2009-03-22</td></tr><tr><td>&quot;David E&quot;</td><td>&quot;495bbbc0000064000100a972&quot;</td><td>&quot;US&quot;</td><td>2</td><td>2008-12-31 18:57:31 UTC</td><td>5</td><td>&quot;Consistently Excellent&quot;</td><td>&quot;I have had perfect order fulfi…</td><td>2008-12-31</td></tr><tr><td>&quot;Joseph Harding&quot;</td><td>&quot;48cfacbf0000640001005d04&quot;</td><td>&quot;GB&quot;</td><td>3</td><td>2008-09-16 13:05:05 UTC</td><td>3</td><td>&quot;Good prices but delivery can t…</td><td>&quot;I always find myself going bac…</td><td>2008-09-16</td></tr><tr><td>&quot;Mads Dørup&quot;</td><td>&quot;474aaec70000640001000a44&quot;</td><td>&quot;DK&quot;</td><td>82</td><td>2008-04-28 11:09:05 UTC</td><td>5</td><td>&quot;World-class online shopping&quot;</td><td>&quot;I have placed an abundance of …</td><td>2008-04-28</td></tr><tr><td>&quot;Kim Fuglsang Kramer&quot;</td><td>&quot;46d1ed150000640001000051&quot;</td><td>&quot;DK&quot;</td><td>2</td><td>2007-08-27 17:25:01 UTC</td><td>4</td><td>&quot;No title&quot;</td><td>&quot;those goods i&#x27;ve ordered by Am…</td><td>2007-08-27</td></tr></tbody></table></div>"
      ],
      "text/plain": [
       "shape: (21_055, 9)\n",
       "┌────────────┬────────────┬─────────┬────────────┬───┬────────┬────────────┬───────────┬───────────┐\n",
       "│ reviewer_n ┆ user_id    ┆ country ┆ review_cou ┆ … ┆ rating ┆ review_tit ┆ review_te ┆ date_of_e │\n",
       "│ ame        ┆ ---        ┆ ---     ┆ nt         ┆   ┆ ---    ┆ le         ┆ xt        ┆ xperience │\n",
       "│ ---        ┆ str        ┆ str     ┆ ---        ┆   ┆ u8     ┆ ---        ┆ ---       ┆ ---       │\n",
       "│ str        ┆            ┆         ┆ i16        ┆   ┆        ┆ str        ┆ str       ┆ date      │\n",
       "╞════════════╪════════════╪═════════╪════════════╪═══╪════════╪════════════╪═══════════╪═══════════╡\n",
       "│ Eugene ath ┆ 66e8185ff1 ┆ US      ┆ 1          ┆ … ┆ 1      ┆ A Store    ┆ I registe ┆ 2024-09-1 │\n",
       "│            ┆ 598352d6b3 ┆         ┆            ┆   ┆        ┆ That       ┆ red on    ┆ 6         │\n",
       "│            ┆ 701a       ┆         ┆            ┆   ┆        ┆ Doesn't    ┆ the       ┆           │\n",
       "│            ┆            ┆         ┆            ┆   ┆        ┆ Want to S… ┆ website,  ┆           │\n",
       "│            ┆            ┆         ┆            ┆   ┆        ┆            ┆ t…        ┆           │\n",
       "│ Daniel     ┆ 5d75e46020 ┆ GB      ┆ 9          ┆ … ┆ 1      ┆ Had        ┆ Had       ┆ 2024-09-1 │\n",
       "│ ohalloran  ┆ 0c1f6a6373 ┆         ┆            ┆   ┆        ┆ multiple   ┆ multiple  ┆ 6         │\n",
       "│            ┆ 648c       ┆         ┆            ┆   ┆        ┆ orders one ┆ orders    ┆           │\n",
       "│            ┆            ┆         ┆            ┆   ┆        ┆ turned…    ┆ one       ┆           │\n",
       "│            ┆            ┆         ┆            ┆   ┆        ┆            ┆ turned…   ┆           │\n",
       "│ p fisher   ┆ 546cfcf100 ┆ GB      ┆ 90         ┆ … ┆ 1      ┆ I informed ┆ I         ┆ 2024-09-1 │\n",
       "│            ┆ 0064000197 ┆         ┆            ┆   ┆        ┆ these      ┆ informed  ┆ 6         │\n",
       "│            ┆ b88f       ┆         ┆            ┆   ┆        ┆ reprobates ┆ these rep ┆           │\n",
       "│            ┆            ┆         ┆            ┆   ┆        ┆            ┆ robates   ┆           │\n",
       "│            ┆            ┆         ┆            ┆   ┆        ┆            ┆ th…       ┆           │\n",
       "│ Greg Dunn  ┆ 62c35cdbac ┆ AU      ┆ 5          ┆ … ┆ 1      ┆ Advertise  ┆ I have    ┆ 2024-09-1 │\n",
       "│            ┆ c0ea0012cc ┆         ┆            ┆   ┆        ┆ one price  ┆ bought    ┆ 7         │\n",
       "│            ┆ affa       ┆         ┆            ┆   ┆        ┆ then       ┆ from      ┆           │\n",
       "│            ┆            ┆         ┆            ┆   ┆        ┆ incre…     ┆ Amazon    ┆           │\n",
       "│            ┆            ┆         ┆            ┆   ┆        ┆            ┆ befo…     ┆           │\n",
       "│ Sheila     ┆ 5ddbe42947 ┆ GB      ┆ 8          ┆ … ┆ 1      ┆ If I could ┆ If I      ┆ 2024-09-1 │\n",
       "│ Hannah     ┆ 8d88251550 ┆         ┆            ┆   ┆        ┆ give a     ┆ could     ┆ 6         │\n",
       "│            ┆ 610e       ┆         ┆            ┆   ┆        ┆ lower rate ┆ give a    ┆           │\n",
       "│            ┆            ┆         ┆            ┆   ┆        ┆ I…         ┆ lower     ┆           │\n",
       "│            ┆            ┆         ┆            ┆   ┆        ┆            ┆ rate I…   ┆           │\n",
       "│ …          ┆ …          ┆ …       ┆ …          ┆ … ┆ …      ┆ …          ┆ …         ┆ …         │\n",
       "│ Anders T   ┆ 47bd4ffe00 ┆ DK      ┆ 1          ┆ … ┆ 5      ┆ Fast!!     ┆ I have    ┆ 2009-03-2 │\n",
       "│            ┆ 0064000100 ┆         ┆            ┆   ┆        ┆            ┆ had       ┆ 2         │\n",
       "│            ┆ 1044       ┆         ┆            ┆   ┆        ┆            ┆ perfect   ┆           │\n",
       "│            ┆            ┆         ┆            ┆   ┆        ┆            ┆ order     ┆           │\n",
       "│            ┆            ┆         ┆            ┆   ┆        ┆            ┆ fulfi…    ┆           │\n",
       "│ David E    ┆ 495bbbc000 ┆ US      ┆ 2          ┆ … ┆ 5      ┆ Consistent ┆ I have    ┆ 2008-12-3 │\n",
       "│            ┆ 0064000100 ┆         ┆            ┆   ┆        ┆ ly         ┆ had       ┆ 1         │\n",
       "│            ┆ a972       ┆         ┆            ┆   ┆        ┆ Excellent  ┆ perfect   ┆           │\n",
       "│            ┆            ┆         ┆            ┆   ┆        ┆            ┆ order     ┆           │\n",
       "│            ┆            ┆         ┆            ┆   ┆        ┆            ┆ fulfi…    ┆           │\n",
       "│ Joseph     ┆ 48cfacbf00 ┆ GB      ┆ 3          ┆ … ┆ 3      ┆ Good       ┆ I always  ┆ 2008-09-1 │\n",
       "│ Harding    ┆ 0064000100 ┆         ┆            ┆   ┆        ┆ prices but ┆ find      ┆ 6         │\n",
       "│            ┆ 5d04       ┆         ┆            ┆   ┆        ┆ delivery   ┆ myself    ┆           │\n",
       "│            ┆            ┆         ┆            ┆   ┆        ┆ can t…     ┆ going     ┆           │\n",
       "│            ┆            ┆         ┆            ┆   ┆        ┆            ┆ bac…      ┆           │\n",
       "│ Mads Dørup ┆ 474aaec700 ┆ DK      ┆ 82         ┆ … ┆ 5      ┆ World-clas ┆ I have    ┆ 2008-04-2 │\n",
       "│            ┆ 0064000100 ┆         ┆            ┆   ┆        ┆ s online   ┆ placed an ┆ 8         │\n",
       "│            ┆ 0a44       ┆         ┆            ┆   ┆        ┆ shopping   ┆ abundance ┆           │\n",
       "│            ┆            ┆         ┆            ┆   ┆        ┆            ┆ of …      ┆           │\n",
       "│ Kim        ┆ 46d1ed1500 ┆ DK      ┆ 2          ┆ … ┆ 4      ┆ No title   ┆ those     ┆ 2007-08-2 │\n",
       "│ Fuglsang   ┆ 0064000100 ┆         ┆            ┆   ┆        ┆            ┆ goods     ┆ 7         │\n",
       "│ Kramer     ┆ 0051       ┆         ┆            ┆   ┆        ┆            ┆ i've      ┆           │\n",
       "│            ┆            ┆         ┆            ┆   ┆        ┆            ┆ ordered   ┆           │\n",
       "│            ┆            ┆         ┆            ┆   ┆        ┆            ┆ by Am…    ┆           │\n",
       "└────────────┴────────────┴─────────┴────────────┴───┴────────┴────────────┴───────────┴───────────┘"
      ]
     },
     "execution_count": 10,
     "metadata": {},
     "output_type": "execute_result"
    }
   ],
   "source": [
    "clean_df = (\n",
    "    df.select(\n",
    "        pl.col(\n",
    "            [\n",
    "                \"Reviewer Name\",\n",
    "                \"Profile Link\",\n",
    "                \"Country\",\n",
    "                \"Review Count\",\n",
    "                \"Review Date\",\n",
    "                \"Rating\",\n",
    "                \"Review Title\",\n",
    "                \"Review Text\",\n",
    "                \"Date of Experience\",\n",
    "            ]\n",
    "        )\n",
    "    )\n",
    "    .pipe(\n",
    "        lambda a_df: a_df.rename(\n",
    "            {col: col.replace(\" \", \"_\").lower() for col in a_df.columns}\n",
    "        )\n",
    "    )\n",
    "    .select(\n",
    "        pl.col('reviewer_name'),\n",
    "        pl.col(\"profile_link\").str.replace(\"/users/\", \"\").alias(\"user_id\"),\n",
    "        pl.col('country'),\n",
    "        pl.col(\"review_count\").str.split(\" \").list.get(0).cast(pl.Int16),\n",
    "        pl.col(\"review_date\").str.strptime(pl.Datetime(\"us\", \"UTC\"), \"%Y-%m-%dT%H:%M:%S%.fZ\").alias(\"review_datetime_utc\"),\n",
    "        pl.col(\"rating\").str.extract(r\"(\\d+)\").cast(pl.UInt8),\n",
    "        pl.col('review_title'),\n",
    "        pl.col('review_text'),\n",
    "        pl.col(\"date_of_experience\").str.strip_chars().str.strptime(pl.Date, \"%B %d, %Y\", strict=False)\n",
    "     )\n",
    ")\n",
    "clean_df"
   ]
  },
  {
   "cell_type": "code",
   "execution_count": 11,
   "id": "8e4526ba",
   "metadata": {},
   "outputs": [
    {
     "data": {
      "text/plain": [
       "[String,\n",
       " String,\n",
       " String,\n",
       " Int16,\n",
       " Datetime(time_unit='us', time_zone='UTC'),\n",
       " UInt8,\n",
       " String,\n",
       " String,\n",
       " Date]"
      ]
     },
     "execution_count": 11,
     "metadata": {},
     "output_type": "execute_result"
    }
   ],
   "source": [
    "clean_df.dtypes"
   ]
  },
  {
   "cell_type": "code",
   "execution_count": 12,
   "id": "4fa694e7",
   "metadata": {},
   "outputs": [
    {
     "data": {
      "text/html": [
       "<div><style>\n",
       ".dataframe > thead > tr,\n",
       ".dataframe > tbody > tr {\n",
       "  text-align: right;\n",
       "  white-space: pre-wrap;\n",
       "}\n",
       "</style>\n",
       "<small>shape: (9, 10)</small><table border=\"1\" class=\"dataframe\"><thead><tr><th>statistic</th><th>reviewer_name</th><th>user_id</th><th>country</th><th>review_count</th><th>review_datetime_utc</th><th>rating</th><th>review_title</th><th>review_text</th><th>date_of_experience</th></tr><tr><td>str</td><td>str</td><td>str</td><td>str</td><td>f64</td><td>str</td><td>f64</td><td>str</td><td>str</td><td>str</td></tr></thead><tbody><tr><td>&quot;count&quot;</td><td>&quot;21055&quot;</td><td>&quot;21055&quot;</td><td>&quot;21055&quot;</td><td>21055.0</td><td>&quot;21055&quot;</td><td>21055.0</td><td>&quot;21055&quot;</td><td>&quot;21055&quot;</td><td>&quot;21055&quot;</td></tr><tr><td>&quot;null_count&quot;</td><td>&quot;0&quot;</td><td>&quot;0&quot;</td><td>&quot;0&quot;</td><td>0.0</td><td>&quot;0&quot;</td><td>0.0</td><td>&quot;0&quot;</td><td>&quot;0&quot;</td><td>&quot;0&quot;</td></tr><tr><td>&quot;mean&quot;</td><td>null</td><td>null</td><td>null</td><td>8.48872</td><td>&quot;2020-11-23 16:26:51.289799+00:…</td><td>2.186654</td><td>null</td><td>null</td><td>&quot;2020-11-16 20:48:42.403229&quot;</td></tr><tr><td>&quot;std&quot;</td><td>null</td><td>null</td><td>null</td><td>18.239247</td><td>null</td><td>1.676769</td><td>null</td><td>null</td><td>null</td></tr><tr><td>&quot;min&quot;</td><td>&quot;&quot;Kestutis Lazauskas&quot;&quot;</td><td>&quot;46d1ed150000640001000051&quot;</td><td>&quot;AD&quot;</td><td>1.0</td><td>&quot;2007-08-27 17:25:01+00:00&quot;</td><td>1.0</td><td>&quot;\tTerrible experience today &quot;</td><td>&quot;&nbsp;&nbsp;&nbsp;Amazon customer service has…</td><td>&quot;2007-08-27&quot;</td></tr><tr><td>&quot;25%&quot;</td><td>null</td><td>null</td><td>null</td><td>1.0</td><td>&quot;2019-09-17 15:28:22+00:00&quot;</td><td>1.0</td><td>null</td><td>null</td><td>&quot;2019-09-14&quot;</td></tr><tr><td>&quot;50%&quot;</td><td>null</td><td>null</td><td>null</td><td>3.0</td><td>&quot;2021-07-26 04:51:41+00:00&quot;</td><td>1.0</td><td>null</td><td>null</td><td>&quot;2021-07-23&quot;</td></tr><tr><td>&quot;75%&quot;</td><td>null</td><td>null</td><td>null</td><td>8.0</td><td>&quot;2023-05-25 18:42:43+00:00&quot;</td><td>4.0</td><td>null</td><td>null</td><td>&quot;2023-05-11&quot;</td></tr><tr><td>&quot;max&quot;</td><td>&quot;👸🏼&quot;</td><td>&quot;66e96137389eefc81dbb22ad&quot;</td><td>&quot;ZM&quot;</td><td>633.0</td><td>&quot;2024-09-17 13:19:27+00:00&quot;</td><td>5.0</td><td>&quot;🤢🤢Burk&quot;</td><td>&quot;🤢🤢They all are just focus on m…</td><td>&quot;2024-09-17&quot;</td></tr></tbody></table></div>"
      ],
      "text/plain": [
       "shape: (9, 10)\n",
       "┌────────────┬────────────┬───────────┬─────────┬───┬──────────┬───────────┬───────────┬───────────┐\n",
       "│ statistic  ┆ reviewer_n ┆ user_id   ┆ country ┆ … ┆ rating   ┆ review_ti ┆ review_te ┆ date_of_e │\n",
       "│ ---        ┆ ame        ┆ ---       ┆ ---     ┆   ┆ ---      ┆ tle       ┆ xt        ┆ xperience │\n",
       "│ str        ┆ ---        ┆ str       ┆ str     ┆   ┆ f64      ┆ ---       ┆ ---       ┆ ---       │\n",
       "│            ┆ str        ┆           ┆         ┆   ┆          ┆ str       ┆ str       ┆ str       │\n",
       "╞════════════╪════════════╪═══════════╪═════════╪═══╪══════════╪═══════════╪═══════════╪═══════════╡\n",
       "│ count      ┆ 21055      ┆ 21055     ┆ 21055   ┆ … ┆ 21055.0  ┆ 21055     ┆ 21055     ┆ 21055     │\n",
       "│ null_count ┆ 0          ┆ 0         ┆ 0       ┆ … ┆ 0.0      ┆ 0         ┆ 0         ┆ 0         │\n",
       "│ mean       ┆ null       ┆ null      ┆ null    ┆ … ┆ 2.186654 ┆ null      ┆ null      ┆ 2020-11-1 │\n",
       "│            ┆            ┆           ┆         ┆   ┆          ┆           ┆           ┆ 6 20:48:4 │\n",
       "│            ┆            ┆           ┆         ┆   ┆          ┆           ┆           ┆ 2.403229  │\n",
       "│ std        ┆ null       ┆ null      ┆ null    ┆ … ┆ 1.676769 ┆ null      ┆ null      ┆ null      │\n",
       "│ min        ┆ \"Kestutis  ┆ 46d1ed150 ┆ AD      ┆ … ┆ 1.0      ┆ \tTerrible ┆ Amazon    ┆ 2007-08-2 │\n",
       "│            ┆ Lazauskas\" ┆ 000640001 ┆         ┆   ┆          ┆ experienc ┆ customer  ┆ 7         │\n",
       "│            ┆            ┆ 000051    ┆         ┆   ┆          ┆ e today   ┆ service   ┆           │\n",
       "│            ┆            ┆           ┆         ┆   ┆          ┆           ┆ has…      ┆           │\n",
       "│ 25%        ┆ null       ┆ null      ┆ null    ┆ … ┆ 1.0      ┆ null      ┆ null      ┆ 2019-09-1 │\n",
       "│            ┆            ┆           ┆         ┆   ┆          ┆           ┆           ┆ 4         │\n",
       "│ 50%        ┆ null       ┆ null      ┆ null    ┆ … ┆ 1.0      ┆ null      ┆ null      ┆ 2021-07-2 │\n",
       "│            ┆            ┆           ┆         ┆   ┆          ┆           ┆           ┆ 3         │\n",
       "│ 75%        ┆ null       ┆ null      ┆ null    ┆ … ┆ 4.0      ┆ null      ┆ null      ┆ 2023-05-1 │\n",
       "│            ┆            ┆           ┆         ┆   ┆          ┆           ┆           ┆ 1         │\n",
       "│ max        ┆ 👸🏼         ┆ 66e961373 ┆ ZM      ┆ … ┆ 5.0      ┆ 🤢🤢Burk  ┆ 🤢🤢They  ┆ 2024-09-1 │\n",
       "│            ┆            ┆ 89eefc81d ┆         ┆   ┆          ┆           ┆ all are   ┆ 7         │\n",
       "│            ┆            ┆ bb22ad    ┆         ┆   ┆          ┆           ┆ just      ┆           │\n",
       "│            ┆            ┆           ┆         ┆   ┆          ┆           ┆ focus on  ┆           │\n",
       "│            ┆            ┆           ┆         ┆   ┆          ┆           ┆ m…        ┆           │\n",
       "└────────────┴────────────┴───────────┴─────────┴───┴──────────┴───────────┴───────────┴───────────┘"
      ]
     },
     "execution_count": 12,
     "metadata": {},
     "output_type": "execute_result"
    }
   ],
   "source": [
    "clean_df.describe()"
   ]
  },
  {
   "cell_type": "code",
   "execution_count": 13,
   "id": "8fd523ef",
   "metadata": {},
   "outputs": [
    {
     "name": "stdout",
     "output_type": "stream",
     "text": [
      "Saved 10.2% memory space\n"
     ]
    }
   ],
   "source": [
    "print(f\"Saved { (float(raw_size) - clean_df.estimated_size()) / float(raw_size):.1%} memory space\")"
   ]
  },
  {
   "cell_type": "markdown",
   "id": "35bf43bb",
   "metadata": {},
   "source": [
    "## Data viz"
   ]
  },
  {
   "cell_type": "code",
   "execution_count": 14,
   "id": "6f45998f",
   "metadata": {},
   "outputs": [
    {
     "data": {
      "text/plain": [
       "['review_count', 'rating']"
      ]
     },
     "execution_count": 14,
     "metadata": {},
     "output_type": "execute_result"
    }
   ],
   "source": [
    "clean_df.select(cs.numeric()).columns"
   ]
  },
  {
   "cell_type": "code",
   "execution_count": 15,
   "id": "fe7e1ba1",
   "metadata": {},
   "outputs": [
    {
     "data": {
      "text/html": [
       "<div><style>\n",
       ".dataframe > thead > tr,\n",
       ".dataframe > tbody > tr {\n",
       "  text-align: right;\n",
       "  white-space: pre-wrap;\n",
       "}\n",
       "</style>\n",
       "<small>shape: (9, 2)</small><table border=\"1\" class=\"dataframe\"><thead><tr><th>statistic</th><th>review_count</th></tr><tr><td>str</td><td>f64</td></tr></thead><tbody><tr><td>&quot;count&quot;</td><td>21055.0</td></tr><tr><td>&quot;null_count&quot;</td><td>0.0</td></tr><tr><td>&quot;mean&quot;</td><td>8.48872</td></tr><tr><td>&quot;std&quot;</td><td>18.239247</td></tr><tr><td>&quot;min&quot;</td><td>1.0</td></tr><tr><td>&quot;25%&quot;</td><td>1.0</td></tr><tr><td>&quot;50%&quot;</td><td>3.0</td></tr><tr><td>&quot;75%&quot;</td><td>8.0</td></tr><tr><td>&quot;max&quot;</td><td>633.0</td></tr></tbody></table></div>"
      ],
      "text/plain": [
       "shape: (9, 2)\n",
       "┌────────────┬──────────────┐\n",
       "│ statistic  ┆ review_count │\n",
       "│ ---        ┆ ---          │\n",
       "│ str        ┆ f64          │\n",
       "╞════════════╪══════════════╡\n",
       "│ count      ┆ 21055.0      │\n",
       "│ null_count ┆ 0.0          │\n",
       "│ mean       ┆ 8.48872      │\n",
       "│ std        ┆ 18.239247    │\n",
       "│ min        ┆ 1.0          │\n",
       "│ 25%        ┆ 1.0          │\n",
       "│ 50%        ┆ 3.0          │\n",
       "│ 75%        ┆ 8.0          │\n",
       "│ max        ┆ 633.0        │\n",
       "└────────────┴──────────────┘"
      ]
     },
     "execution_count": 15,
     "metadata": {},
     "output_type": "execute_result"
    }
   ],
   "source": [
    "clean_df.select(pl.col(\"review_count\")).describe()"
   ]
  },
  {
   "cell_type": "markdown",
   "id": "66a801e3",
   "metadata": {},
   "source": [
    "deciles_table = dv_df.review_count.quantile(np.arange(0.1, 1.0, 0.1))\n",
    "\n",
    "font = {'weight' : 'semibold',\n",
    "        'size'   : 6}\n",
    "pltrc('font', **font)\n",
    "\n",
    "f, axes = plt.subplots(9, figsize=(19, 11))\n",
    "\n",
    "for dec, ax in zip(deciles_table.index, axes):\n",
    "    computed_value = deciles_table[dec]\n",
    "    ax.set(ylabel=None)\n",
    "    ax.tick_params(bottom=False)\n",
    "    sns.boxplot(data=dv_df[dv_df[\"review_count\"] < computed_value], x=\"review_count\", ax=ax)\n"
   ]
  },
  {
   "cell_type": "code",
   "execution_count": 98,
   "id": "e62fc189",
   "metadata": {},
   "outputs": [],
   "source": [
    "# some plots like pairplot expect a pandas datafram\n",
    "dv_df = clean_df.to_pandas()"
   ]
  },
  {
   "cell_type": "code",
   "execution_count": 99,
   "id": "3241a8bd",
   "metadata": {},
   "outputs": [
    {
     "data": {
      "image/png": "[encoded data removed]",
      "text/plain": [
       "<Figure size 1200x500 with 3 Axes>"
      ]
     },
     "metadata": {},
     "output_type": "display_data"
    }
   ],
   "source": [
    "f, axs = plt.subplots(1, 3, figsize = (12, 5))\n",
    "\n",
    "for val, ax in zip([dv_df.review_count.max(), 40, 25], axs):\n",
    "    sns.boxplot(data=dv_df[dv_df.review_count < val], x=\"review_count\", ax=ax)\n"
   ]
  },
  {
   "cell_type": "code",
   "execution_count": 100,
   "id": "020a7a91",
   "metadata": {},
   "outputs": [
    {
     "data": {
      "image/png": "[encoded data removed]",
      "text/plain": [
       "<Figure size 1200x500 with 3 Axes>"
      ]
     },
     "metadata": {},
     "output_type": "display_data"
    }
   ],
   "source": [
    "f, axs = plt.subplots(1, 3, figsize = (12, 5))\n",
    "\n",
    "for val, ax in zip([dv_df.review_count.max(), 40, 25], axs):\n",
    "    sns.histplot(data=dv_df[dv_df.review_count < val], x=\"review_count\", ax=ax)"
   ]
  },
  {
   "cell_type": "code",
   "execution_count": 101,
   "id": "1bbdaa1b",
   "metadata": {},
   "outputs": [
    {
     "data": {
      "text/plain": [
       "<Axes: xlabel='rating', ylabel='Count'>"
      ]
     },
     "execution_count": 101,
     "metadata": {},
     "output_type": "execute_result"
    },
    {
     "data": {
      "image/png": "[encoded data removed]",
      "text/plain": [
       "<Figure size 640x480 with 1 Axes>"
      ]
     },
     "metadata": {},
     "output_type": "display_data"
    }
   ],
   "source": [
    "sns.histplot(data=dv_df, x=\"rating\")"
   ]
  },
  {
   "cell_type": "code",
   "execution_count": 106,
   "id": "3b8741d6",
   "metadata": {},
   "outputs": [
    {
     "name": "stdout",
     "output_type": "stream",
     "text": [
      "df_with_groups.shape=(21055, 2)\n"
     ]
    },
    {
     "data": {
      "text/html": [
       "<div>\n",
       "<style scoped>\n",
       "    .dataframe tbody tr th:only-of-type {\n",
       "        vertical-align: middle;\n",
       "    }\n",
       "\n",
       "    .dataframe tbody tr th {\n",
       "        vertical-align: top;\n",
       "    }\n",
       "\n",
       "    .dataframe thead th {\n",
       "        text-align: right;\n",
       "    }\n",
       "</style>\n",
       "<table border=\"1\" class=\"dataframe\">\n",
       "  <thead>\n",
       "    <tr style=\"text-align: right;\">\n",
       "      <th></th>\n",
       "      <th>review_count</th>\n",
       "      <th>group</th>\n",
       "    </tr>\n",
       "  </thead>\n",
       "  <tbody>\n",
       "    <tr>\n",
       "      <th>0</th>\n",
       "      <td>1</td>\n",
       "      <td>occasional</td>\n",
       "    </tr>\n",
       "    <tr>\n",
       "      <th>1</th>\n",
       "      <td>9</td>\n",
       "      <td>heavy_users</td>\n",
       "    </tr>\n",
       "    <tr>\n",
       "      <th>2</th>\n",
       "      <td>90</td>\n",
       "      <td>heavy_users</td>\n",
       "    </tr>\n",
       "    <tr>\n",
       "      <th>3</th>\n",
       "      <td>5</td>\n",
       "      <td>regular</td>\n",
       "    </tr>\n",
       "    <tr>\n",
       "      <th>4</th>\n",
       "      <td>8</td>\n",
       "      <td>regular</td>\n",
       "    </tr>\n",
       "    <tr>\n",
       "      <th>...</th>\n",
       "      <td>...</td>\n",
       "      <td>...</td>\n",
       "    </tr>\n",
       "    <tr>\n",
       "      <th>21050</th>\n",
       "      <td>1</td>\n",
       "      <td>occasional</td>\n",
       "    </tr>\n",
       "    <tr>\n",
       "      <th>21051</th>\n",
       "      <td>2</td>\n",
       "      <td>occasional</td>\n",
       "    </tr>\n",
       "    <tr>\n",
       "      <th>21052</th>\n",
       "      <td>3</td>\n",
       "      <td>occasional</td>\n",
       "    </tr>\n",
       "    <tr>\n",
       "      <th>21053</th>\n",
       "      <td>82</td>\n",
       "      <td>heavy_users</td>\n",
       "    </tr>\n",
       "    <tr>\n",
       "      <th>21054</th>\n",
       "      <td>2</td>\n",
       "      <td>occasional</td>\n",
       "    </tr>\n",
       "  </tbody>\n",
       "</table>\n",
       "<p>21055 rows × 2 columns</p>\n",
       "</div>"
      ],
      "text/plain": [
       "       review_count        group\n",
       "0                 1   occasional\n",
       "1                 9  heavy_users\n",
       "2                90  heavy_users\n",
       "3                 5      regular\n",
       "4                 8      regular\n",
       "...             ...          ...\n",
       "21050             1   occasional\n",
       "21051             2   occasional\n",
       "21052             3   occasional\n",
       "21053            82  heavy_users\n",
       "21054             2   occasional\n",
       "\n",
       "[21055 rows x 2 columns]"
      ]
     },
     "execution_count": 106,
     "metadata": {},
     "output_type": "execute_result"
    }
   ],
   "source": [
    "# create user profiles based on quartiles\n",
    "def create_groups(df, colname, quantiles=4, labels=[\"occasional\", \"regular\", \"heavy_users\"], rename=True, new_colname=[\"review_count\", \"profile\"]):\n",
    "    \"\"\"creates 3 groups based on quartiles\"\"\"\n",
    "    df_with_groups = pd.concat([\n",
    "        df.review_count,\n",
    "        pd.qcut(df[colname], quantiles, labels=labels, duplicates='drop')\n",
    "        ], axis=1\n",
    "    ).set_axis([colname, \"group\"], axis=\"columns\")\n",
    "    print(f\"{df_with_groups.shape=}\")\n",
    "    return df_with_groups\n",
    "\n",
    "create_groups(dv_df, \"review_count\")"
   ]
  },
  {
   "cell_type": "code",
   "execution_count": 107,
   "id": "8e2f7c46",
   "metadata": {},
   "outputs": [],
   "source": [
    "# check metrics for each group\n",
    "def compute_created_groups_metrics(df):\n",
    "    return(\n",
    "        df.groupby(\"group\", observed=True).agg(['min', 'max', 'count'])\n",
    "        .set_axis([\"min_value\", \"max_value\", \"count_value\"], axis=\"columns\")\n",
    "        .assign(pct= lambda _df : _df.count_value / _df.count_value.sum() )\n",
    "    )"
   ]
  },
  {
   "cell_type": "code",
   "execution_count": 108,
   "id": "43480571",
   "metadata": {},
   "outputs": [
    {
     "name": "stdout",
     "output_type": "stream",
     "text": [
      "df_with_groups.shape=(21055, 2)\n"
     ]
    },
    {
     "data": {
      "text/html": [
       "<div>\n",
       "<style scoped>\n",
       "    .dataframe tbody tr th:only-of-type {\n",
       "        vertical-align: middle;\n",
       "    }\n",
       "\n",
       "    .dataframe tbody tr th {\n",
       "        vertical-align: top;\n",
       "    }\n",
       "\n",
       "    .dataframe thead th {\n",
       "        text-align: right;\n",
       "    }\n",
       "</style>\n",
       "<table border=\"1\" class=\"dataframe\">\n",
       "  <thead>\n",
       "    <tr style=\"text-align: right;\">\n",
       "      <th></th>\n",
       "      <th>min_value</th>\n",
       "      <th>max_value</th>\n",
       "      <th>count_value</th>\n",
       "      <th>pct</th>\n",
       "    </tr>\n",
       "    <tr>\n",
       "      <th>group</th>\n",
       "      <th></th>\n",
       "      <th></th>\n",
       "      <th></th>\n",
       "      <th></th>\n",
       "    </tr>\n",
       "  </thead>\n",
       "  <tbody>\n",
       "    <tr>\n",
       "      <th>occasional</th>\n",
       "      <td>1</td>\n",
       "      <td>3</td>\n",
       "      <td>11609</td>\n",
       "      <td>0.551365</td>\n",
       "    </tr>\n",
       "    <tr>\n",
       "      <th>regular</th>\n",
       "      <td>4</td>\n",
       "      <td>8</td>\n",
       "      <td>4515</td>\n",
       "      <td>0.214438</td>\n",
       "    </tr>\n",
       "    <tr>\n",
       "      <th>heavy_users</th>\n",
       "      <td>9</td>\n",
       "      <td>633</td>\n",
       "      <td>4931</td>\n",
       "      <td>0.234196</td>\n",
       "    </tr>\n",
       "  </tbody>\n",
       "</table>\n",
       "</div>"
      ],
      "text/plain": [
       "             min_value  max_value  count_value       pct\n",
       "group                                                   \n",
       "occasional           1          3        11609  0.551365\n",
       "regular              4          8         4515  0.214438\n",
       "heavy_users          9        633         4931  0.234196"
      ]
     },
     "execution_count": 108,
     "metadata": {},
     "output_type": "execute_result"
    }
   ],
   "source": [
    "dv_df = create_groups(dv_df, \"review_count\")\n",
    "compute_created_groups_metrics(dv_df)"
   ]
  },
  {
   "cell_type": "code",
   "execution_count": 109,
   "id": "b38779bb",
   "metadata": {},
   "outputs": [
    {
     "name": "stdout",
     "output_type": "stream",
     "text": [
      "df_with_groups.shape=(19383, 2)\n"
     ]
    },
    {
     "data": {
      "text/html": [
       "<div>\n",
       "<style scoped>\n",
       "    .dataframe tbody tr th:only-of-type {\n",
       "        vertical-align: middle;\n",
       "    }\n",
       "\n",
       "    .dataframe tbody tr th {\n",
       "        vertical-align: top;\n",
       "    }\n",
       "\n",
       "    .dataframe thead th {\n",
       "        text-align: right;\n",
       "    }\n",
       "</style>\n",
       "<table border=\"1\" class=\"dataframe\">\n",
       "  <thead>\n",
       "    <tr style=\"text-align: right;\">\n",
       "      <th></th>\n",
       "      <th>min_value</th>\n",
       "      <th>max_value</th>\n",
       "      <th>count_value</th>\n",
       "      <th>pct</th>\n",
       "    </tr>\n",
       "    <tr>\n",
       "      <th>group</th>\n",
       "      <th></th>\n",
       "      <th></th>\n",
       "      <th></th>\n",
       "      <th></th>\n",
       "    </tr>\n",
       "  </thead>\n",
       "  <tbody>\n",
       "    <tr>\n",
       "      <th>occasional</th>\n",
       "      <td>1</td>\n",
       "      <td>3</td>\n",
       "      <td>11609</td>\n",
       "      <td>0.598927</td>\n",
       "    </tr>\n",
       "    <tr>\n",
       "      <th>regular</th>\n",
       "      <td>4</td>\n",
       "      <td>6</td>\n",
       "      <td>3370</td>\n",
       "      <td>0.173864</td>\n",
       "    </tr>\n",
       "    <tr>\n",
       "      <th>heavy_users</th>\n",
       "      <td>7</td>\n",
       "      <td>24</td>\n",
       "      <td>4404</td>\n",
       "      <td>0.227209</td>\n",
       "    </tr>\n",
       "  </tbody>\n",
       "</table>\n",
       "</div>"
      ],
      "text/plain": [
       "             min_value  max_value  count_value       pct\n",
       "group                                                   \n",
       "occasional           1          3        11609  0.598927\n",
       "regular              4          6         3370  0.173864\n",
       "heavy_users          7         24         4404  0.227209"
      ]
     },
     "execution_count": 109,
     "metadata": {},
     "output_type": "execute_result"
    }
   ],
   "source": [
    "reduced_dv_df = dv_df[dv_df.review_count < 25]\n",
    "reduced_dv_df = create_groups(reduced_dv_df, \"review_count\")\n",
    "compute_created_groups_metrics(reduced_dv_df)"
   ]
  }
 ],
 "metadata": {
  "kernelspec": {
   "display_name": "polars-playground (3.12.11)",
   "language": "python",
   "name": "python3"
  },
  "language_info": {
   "codemirror_mode": {
    "name": "ipython",
    "version": 3
   },
   "file_extension": ".py",
   "mimetype": "text/x-python",
   "name": "python",
   "nbconvert_exporter": "python",
   "pygments_lexer": "ipython3",
   "version": "3.12.11"
  }
 },
 "nbformat": 4,
 "nbformat_minor": 5
}
